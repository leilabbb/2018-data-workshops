{
 "cells": [
  {
   "cell_type": "markdown",
   "metadata": {
    "colab_type": "text",
    "id": "7FhTQgqrnnOI"
   },
   "source": [
    "# Connecticut River plume signature in the Coastal Pioneer Array from annual peak discharge, 2017\n",
    "Looking at the Inshore Surface Mooring (**CP03ISSM**), the Central Surface Mooring (**CP01CNSM**), and the Offshore Surface Mooring (**CP04OSSM**). Using the Bulk Meteorology Package (METBK) to try to corroborate each other and track the surface salinity. Cruise data is available as well. \n",
    "\n",
    "Possibly corroborate other Connecticut River Plume data from NASA MODIS satellite data, OOI Cruise data, and/or from Mike Whitney, UConn (?). \n",
    "\n",
    "\n",
    "---\n",
    "\n",
    "\n",
    "Molly James, University of Connecticut (molly.james@uconn.edu)\n",
    "\n",
    "OOI Data Workshop - Physics\n",
    "\n",
    "May 21-25, 2018"
   ]
  },
  {
   "cell_type": "markdown",
   "metadata": {
    "colab_type": "text",
    "id": "d7jEh2xJscm6"
   },
   "source": [
    "# Starting to look at the data \n",
    "| Site | Instrument | Deployment | Reference Designator | Method | Stream \n",
    "| -- | -- | -- | -- | -- | --\n",
    "| Inshore  | METBK | 5 | [CP03ISSM-SBD11-06-METBKA000](https://ooinet.oceanobservatories.org/data_access/?search=CP03ISSM-SBD11-06-METBKA000) | recovered_host | metbk_a_dcl_instrument\n",
    "| Central | METBK | 6 & 7  |[CP01CNSM-SBD12-06-METBKA000](https://ooinet.oceanobservatories.org/data_access/?search=CP01CNSM-SBD12-06-METBKA000) | recovered_host | metbk_a_dcl_instrument |\n",
    "| Offshore | METBK | 5 & 6 | [CP04OSSM-SBD11-06-METBKA000](https://ooinet.oceanobservatories.org/data_access/?search=CP04OSSM-SBD11-06-METBKA000) | recovered_host | metbk_a_dcl_instrument"
   ]
  },
  {
   "cell_type": "code",
   "execution_count": 0,
   "metadata": {
    "colab": {
     "autoexec": {
      "startup": false,
      "wait_interval": 0
     }
    },
    "colab_type": "code",
    "id": "sqobFT5BrCis"
   },
   "outputs": [],
   "source": [
    "## Using the API to navigate the data available from CP03ISPM\n",
    "\n",
    "# First, let's import the Python libraries we will need\n",
    "import requests\n",
    "import datetime\n",
    "import matplotlib.pyplot as plt\n",
    "import pandas as pd\n",
    "import numpy as np\n",
    "import re\n",
    "import os"
   ]
  },
  {
   "cell_type": "code",
   "execution_count": 0,
   "metadata": {
    "colab": {
     "autoexec": {
      "startup": false,
      "wait_interval": 0
     }
    },
    "colab_type": "code",
    "id": "JRGr4wXhm-4J"
   },
   "outputs": [],
   "source": [
    "# API Information\n",
    "USERNAME =''\n",
    "TOKEN= ''\n",
    "VOCAB_API = 'https://ooinet.oceanobservatories.org/api/m2m/12586/vocab/inv' # used to get metadata\n",
    "ANNO_API = 'https://ooinet.oceanobservatories.org/api/m2m/12580/anno/find'  # annotations API url\n"
   ]
  },
  {
   "cell_type": "code",
   "execution_count": 0,
   "metadata": {
    "colab": {
     "autoexec": {
      "startup": false,
      "wait_interval": 0
     }
    },
    "colab_type": "code",
    "id": "xnJxUOF0tea1"
   },
   "outputs": [],
   "source": [
    "# Instrument Information\n",
    "site1 = 'CP03ISSM' # inshore surface mooring\n",
    "site2 = 'CP01CNSM' # central surface mooring\n",
    "site3 = 'CP04OSSM' # offshore surface mooring\n",
    "node  = 'SBD11'\n",
    "node2 = 'SBD12'\n",
    "instrument = '06-METBKA000'\n",
    "method = 'recovered_host'              # need to have the underscore not a dash!\n",
    "stream = 'metbk_a_dcl_instrument_recovered'"
   ]
  },
  {
   "cell_type": "markdown",
   "metadata": {
    "colab_type": "text",
    "id": "b3YDIyx4acud"
   },
   "source": [
    "## Time of interest\n",
    "Time period of interest is the peak discharge of the Connecticut River in the spring. This is usually in April when the snow melts in the watershed, therefore, to get a window of data is good, so March to May. \n",
    "\n",
    "Only going to consider the data from Spring 2017.\n",
    "* Inshore Surface\n",
    "* Central Surface\n",
    "  * two options for METBK instruments \n",
    "* Offshore Surface\n",
    "* MODIS Satellite Ocean Color \n",
    "* Cruise Data?\n",
    "  * Need to see timing of cruises for deployments"
   ]
  },
  {
   "cell_type": "code",
   "execution_count": 0,
   "metadata": {
    "colab": {
     "autoexec": {
      "startup": false,
      "wait_interval": 0
     },
     "base_uri": "https://localhost:8080/",
     "height": 221
    },
    "colab_type": "code",
    "executionInfo": {
     "elapsed": 6378,
     "status": "ok",
     "timestamp": 1527256025238,
     "user": {
      "displayName": "Molly James",
      "photoUrl": "//lh6.googleusercontent.com/-zxGvnJYOslk/AAAAAAAAAAI/AAAAAAAAAAk/MjdTty3E624/s50-c-k-no/photo.jpg",
      "userId": "118440168816468865461"
     },
     "user_tz": 240
    },
    "id": "x_AvkQ0qcG5m",
    "outputId": "5c497d61-a8a6-44c5-f33d-7df00668638d"
   },
   "outputs": [
    {
     "name": "stdout",
     "output_type": "stream",
     "text": [
      "Requirement already satisfied: netCDF4 in /usr/local/lib/python2.7/dist-packages (1.4.0)\r\n",
      "Requirement already satisfied: numpy>=1.7 in /usr/local/lib/python2.7/dist-packages (from netCDF4) (1.14.3)\r\n",
      "Requirement already satisfied: cftime in /usr/local/lib/python2.7/dist-packages (from netCDF4) (1.0.0)\r\n",
      "Requirement already satisfied: setuptools>=18.0 in /usr/local/lib/python2.7/dist-packages (from cftime->netCDF4) (39.2.0)\r\n",
      "Requirement already satisfied: cython in /usr/local/lib/python2.7/dist-packages (from cftime->netCDF4) (0.28.2)\n",
      "Requirement already satisfied: xarray in /usr/local/lib/python2.7/dist-packages (0.10.4)\n",
      "Requirement already satisfied: pandas>=0.18.0 in /usr/local/lib/python2.7/dist-packages (from xarray) (0.22.0)\n",
      "Requirement already satisfied: numpy>=1.11 in /usr/local/lib/python2.7/dist-packages (from xarray) (1.14.3)\n",
      "Requirement already satisfied: pytz>=2011k in /usr/local/lib/python2.7/dist-packages (from pandas>=0.18.0->xarray) (2018.4)\n",
      "Requirement already satisfied: python-dateutil in /usr/local/lib/python2.7/dist-packages (from pandas>=0.18.0->xarray) (2.5.3)\n",
      "Requirement already satisfied: six>=1.5 in /usr/local/lib/python2.7/dist-packages (from python-dateutil->pandas>=0.18.0->xarray) (1.11.0)\n",
      "Requirement already satisfied: cmocean in /usr/local/lib/python2.7/dist-packages (1.1)\n"
     ]
    }
   ],
   "source": [
    "# importing new libraries\n",
    "!pip install netCDF4\n",
    "import netCDF4 as nc\n",
    "\n",
    "!pip install xarray\n",
    "import xarray as xr\n",
    "\n",
    "!pip install cmocean\n",
    "import cmocean\n"
   ]
  },
  {
   "cell_type": "code",
   "execution_count": 0,
   "metadata": {
    "colab": {
     "autoexec": {
      "startup": false,
      "wait_interval": 0
     }
    },
    "colab_type": "code",
    "id": "zwYKJuUBjpoH"
   },
   "outputs": [],
   "source": [
    "# request to see the timing of the deployments, when time periods we want to look at\n",
    "# Specify some functions to convert timestamps\n",
    "ntp_epoch = datetime.datetime(1900, 1, 1)\n",
    "unix_epoch = datetime.datetime(1970, 1, 1)\n",
    "ntp_delta = (unix_epoch - ntp_epoch).total_seconds()\n",
    "\n",
    "def ntp_seconds_to_datetime(ntp_seconds):\n",
    "    return datetime.datetime.utcfromtimestamp(ntp_seconds - ntp_delta).replace(microsecond=0)\n",
    "  \n",
    "def convert_time(ms):\n",
    "  if ms != None:\n",
    "    return datetime.datetime.utcfromtimestamp(ms/1000)\n",
    "  else:\n",
    "    return None"
   ]
  },
  {
   "cell_type": "code",
   "execution_count": 0,
   "metadata": {
    "colab": {
     "autoexec": {
      "startup": false,
      "wait_interval": 0
     },
     "base_uri": "https://localhost:8080/",
     "height": 80
    },
    "colab_type": "code",
    "executionInfo": {
     "elapsed": 1021,
     "status": "ok",
     "timestamp": 1527256029458,
     "user": {
      "displayName": "Molly James",
      "photoUrl": "//lh6.googleusercontent.com/-zxGvnJYOslk/AAAAAAAAAAI/AAAAAAAAAAk/MjdTty3E624/s50-c-k-no/photo.jpg",
      "userId": "118440168816468865461"
     },
     "user_tz": 240
    },
    "id": "wwqJCr7vZpvu",
    "outputId": "b59d808d-39e4-4c26-dab2-669228816283"
   },
   "outputs": [
    {
     "data": {
      "text/html": [
       "<div>\n",
       "<style scoped>\n",
       "    .dataframe tbody tr th:only-of-type {\n",
       "        vertical-align: middle;\n",
       "    }\n",
       "\n",
       "    .dataframe tbody tr th {\n",
       "        vertical-align: top;\n",
       "    }\n",
       "\n",
       "    .dataframe thead th {\n",
       "        text-align: right;\n",
       "    }\n",
       "</style>\n",
       "<table border=\"1\" class=\"dataframe\">\n",
       "  <thead>\n",
       "    <tr style=\"text-align: right;\">\n",
       "      <th></th>\n",
       "      <th>asset_id</th>\n",
       "      <th>deployment</th>\n",
       "      <th>latitude</th>\n",
       "      <th>longitude</th>\n",
       "      <th>sensor</th>\n",
       "      <th>start</th>\n",
       "      <th>stop</th>\n",
       "    </tr>\n",
       "  </thead>\n",
       "  <tbody>\n",
       "    <tr>\n",
       "      <th>0</th>\n",
       "      <td>284.0</td>\n",
       "      <td>5.0</td>\n",
       "      <td>40.36192</td>\n",
       "      <td>-70.87827</td>\n",
       "      <td>CGINS-METLGR-00012</td>\n",
       "      <td>2016-10-11 13:39:00</td>\n",
       "      <td>2017-06-15 15:56:00</td>\n",
       "    </tr>\n",
       "  </tbody>\n",
       "</table>\n",
       "</div>"
      ],
      "text/plain": [
       "   asset_id  deployment  latitude  longitude              sensor  \\\n",
       "0     284.0         5.0  40.36192  -70.87827  CGINS-METLGR-00012   \n",
       "\n",
       "                start                stop  \n",
       "0 2016-10-11 13:39:00 2017-06-15 15:56:00  "
      ]
     },
     "execution_count": 64,
     "metadata": {
      "tags": []
     },
     "output_type": "execute_result"
    }
   ],
   "source": [
    "# Setup the API request url\n",
    "# to check the time period of the deployment\n",
    "\n",
    "ASSET_API = 'https://ooinet.oceanobservatories.org/api/m2m/12587'           # calibration/deployment Info\n",
    "data_request_url = ASSET_API + '/events/deployment/query'\n",
    "params = {                                  # checking if available for spring 2018\n",
    "  'beginDT':'2017-03-01T00:00:00.000Z', \n",
    "  'endDT':'2017-06-01T00:00:00.000Z',\n",
    "  'refdes':site1+'-'+node+'-'+instrument,   # change site between site1, site2, site3\n",
    "}\n",
    "\n",
    "# Grab the information from the server\n",
    "r = requests.get(data_request_url, params=params, auth=(USERNAME, TOKEN))\n",
    "data = r.json()\n",
    "\n",
    "df = pd.DataFrame() # Setup empty array\n",
    "for d in data:\n",
    "  df = df.append({\n",
    "      'deployment': d['deploymentNumber'],\n",
    "      'start': convert_time(d['eventStartTime']),\n",
    "      'stop': convert_time(d['eventStopTime']),\n",
    "      'latitude': d['location']['latitude'],\n",
    "      'longitude': d['location']['longitude'],\n",
    "      'sensor': d['sensor']['uid'],\n",
    "      'asset_id': d['sensor']['assetId'],\n",
    "    }, ignore_index=True)\n",
    "df"
   ]
  },
  {
   "cell_type": "markdown",
   "metadata": {
    "colab_type": "text",
    "id": "aPpW4PpdfKAa"
   },
   "source": [
    "## Inshore Surface Mooring CP03ISSM\n",
    "\n",
    "Asynchronous requesting the NetCDF files to get the whole data set telemetered because not recovered yet"
   ]
  },
  {
   "cell_type": "code",
   "execution_count": 0,
   "metadata": {
    "colab": {
     "autoexec": {
      "startup": false,
      "wait_interval": 0
     }
    },
    "colab_type": "code",
    "id": "FA9LkuP2ZcKK"
   },
   "outputs": [],
   "source": [
    "beginDT = '2017-03-01T00:00:00.000Z'\n",
    "endDT = '2017-06-01T00:00:00.000Z'\n",
    "\n",
    "DATA_API = 'https://ooinet.oceanobservatories.org/api/m2m/12576/sensor/inv' # used to get data\n"
   ]
  },
  {
   "cell_type": "code",
   "execution_count": 0,
   "metadata": {
    "colab": {
     "autoexec": {
      "startup": false,
      "wait_interval": 0
     }
    },
    "colab_type": "code",
    "id": "8sMYfJZRgFPK"
   },
   "outputs": [],
   "source": [
    "# Inshore Surface Mooring \n",
    "# DO NOT RERUN B/C ALREADY REQUESTED\n",
    "#data_request_url ='/'.join((DATA_API,site1,node,instrument,method,stream))\n",
    "#params = {\n",
    "#    'beginDT':beginDT,\n",
    "#    'endDT':endDT,   \n",
    "#}\n",
    "#r = requests.get(data_request_url, params=params, auth=(USERNAME, TOKEN))\n",
    "#data = r.json()\n"
   ]
  },
  {
   "cell_type": "code",
   "execution_count": 0,
   "metadata": {
    "colab": {
     "autoexec": {
      "startup": false,
      "wait_interval": 0
     }
    },
    "colab_type": "code",
    "id": "_4psARyzcfB4"
   },
   "outputs": [],
   "source": [
    "#data\n"
   ]
  },
  {
   "cell_type": "code",
   "execution_count": 0,
   "metadata": {
    "colab": {
     "autoexec": {
      "startup": false,
      "wait_interval": 0
     }
    },
    "colab_type": "code",
    "id": "yKSzlBOHXt-6"
   },
   "outputs": [],
   "source": [
    "#whos # lets you see your variable space"
   ]
  },
  {
   "cell_type": "code",
   "execution_count": 0,
   "metadata": {
    "colab": {
     "autoexec": {
      "startup": false,
      "wait_interval": 0
     }
    },
    "colab_type": "code",
    "id": "67ixtUEqYI6P"
   },
   "outputs": [],
   "source": [
    "#%%time\n",
    "#check_complete = data['allURLs'][1] + '/status.txt'\n",
    "#for i in range(1800): \n",
    "#    r = requests.get(check_complete)\n",
    "#    if r.status_code == requests.codes.ok:\n",
    "#        print('request completed')\n",
    "#        break\n",
    "#    else:\n",
    "#        time.sleep(1)"
   ]
  },
  {
   "cell_type": "code",
   "execution_count": 0,
   "metadata": {
    "colab": {
     "autoexec": {
      "startup": false,
      "wait_interval": 0
     }
    },
    "colab_type": "code",
    "id": "aUAjwb3YmsWQ"
   },
   "outputs": [],
   "source": [
    "#data['allURLs'][0]"
   ]
  },
  {
   "cell_type": "code",
   "execution_count": 0,
   "metadata": {
    "colab": {
     "autoexec": {
      "startup": false,
      "wait_interval": 0
     },
     "base_uri": "https://localhost:8080/",
     "height": 71
    },
    "colab_type": "code",
    "executionInfo": {
     "elapsed": 549,
     "status": "ok",
     "timestamp": 1527256038509,
     "user": {
      "displayName": "Molly James",
      "photoUrl": "//lh6.googleusercontent.com/-zxGvnJYOslk/AAAAAAAAAAI/AAAAAAAAAAk/MjdTty3E624/s50-c-k-no/photo.jpg",
      "userId": "118440168816468865461"
     },
     "user_tz": 240
    },
    "id": "_d_01YJSgIUX",
    "outputId": "42ff4d52-5402-4d02-b803-2e68edd7ec1f"
   },
   "outputs": [
    {
     "data": {
      "text/plain": [
       "[u'https://opendap.oceanobservatories.org/thredds/dodsC/ooi/molly.james@uconn.edu/20180524T140008-CP03ISSM-SBD11-06-METBKA000-recovered_host-metbk_a_dcl_instrument_recovered/deployment0005_CP03ISSM-SBD11-06-METBKA000-recovered_host-metbk_a_dcl_instrument_recovered_20170301T000032.626000-20170531T235954.139000.nc',\n",
       " u'https://opendap.oceanobservatories.org/thredds/dodsC/ooi/molly.james@uconn.edu/20180524T140008-CP03ISSM-SBD11-06-METBKA000-recovered_host-metbk_a_dcl_instrument_recovered/deployment0005_CP03ISSM-RID26-04-VELPTA000-recovered_host-velpt_ab_dcl_instrument_recovered_20170301T000008-20170531T234516.nc']"
      ]
     },
     "execution_count": 69,
     "metadata": {
      "tags": []
     },
     "output_type": "execute_result"
    }
   ],
   "source": [
    "#Parse the thredds server to get a list of all NetCDF files. Each deployment is seperated into a seperate netcdf file.\n",
    "\n",
    "url = 'https://opendap.oceanobservatories.org/thredds/catalog/ooi/molly.james@uconn.edu/20180524T140008-CP03ISSM-SBD11-06-METBKA000-recovered_host-metbk_a_dcl_instrument_recovered/catalog.html'\n",
    "tds_url = 'https://opendap.oceanobservatories.org/thredds/dodsC'\n",
    "datasets = requests.get(url).text\n",
    "urls = re.findall(r'href=[\\'\"]?([^\\'\" >]+)', datasets)\n",
    "x = re.findall(r'(ooi/.*?.nc)', datasets)\n",
    "for i in x:\n",
    "    if i.endswith('.nc') == False:\n",
    "        x.remove(i)\n",
    "for i in x:\n",
    "    try:\n",
    "        float(i[-4])\n",
    "    except:\n",
    "        x.remove(i)\n",
    "datasets1 = [os.path.join(tds_url, i) for i in x]\n",
    "datasets1"
   ]
  },
  {
   "cell_type": "code",
   "execution_count": 0,
   "metadata": {
    "colab": {
     "autoexec": {
      "startup": false,
      "wait_interval": 0
     }
    },
    "colab_type": "code",
    "id": "L5jwG6DqnVb9"
   },
   "outputs": [],
   "source": [
    "# remove the VELPT (point velocity instrument) data from datasets that was added???\n"
   ]
  },
  {
   "cell_type": "code",
   "execution_count": 0,
   "metadata": {
    "colab": {
     "autoexec": {
      "startup": false,
      "wait_interval": 0
     },
     "base_uri": "https://localhost:8080/",
     "height": 34
    },
    "colab_type": "code",
    "executionInfo": {
     "elapsed": 2198,
     "status": "ok",
     "timestamp": 1527256043087,
     "user": {
      "displayName": "Molly James",
      "photoUrl": "//lh6.googleusercontent.com/-zxGvnJYOslk/AAAAAAAAAAI/AAAAAAAAAAk/MjdTty3E624/s50-c-k-no/photo.jpg",
      "userId": "118440168816468865461"
     },
     "user_tz": 240
    },
    "id": "MCdvYfERp4R5",
    "outputId": "bfd51b77-a3a6-4dbb-9cea-be0713e3893e"
   },
   "outputs": [
    {
     "name": "stdout",
     "output_type": "stream",
     "text": [
      "Requirement already satisfied: dask in /usr/local/lib/python2.7/dist-packages (0.17.5)\r\n"
     ]
    }
   ],
   "source": [
    "!pip install dask"
   ]
  },
  {
   "cell_type": "code",
   "execution_count": 0,
   "metadata": {
    "colab": {
     "autoexec": {
      "startup": false,
      "wait_interval": 0
     },
     "base_uri": "https://localhost:8080/",
     "height": 54
    },
    "colab_type": "code",
    "executionInfo": {
     "elapsed": 344,
     "status": "ok",
     "timestamp": 1527256047208,
     "user": {
      "displayName": "Molly James",
      "photoUrl": "//lh6.googleusercontent.com/-zxGvnJYOslk/AAAAAAAAAAI/AAAAAAAAAAk/MjdTty3E624/s50-c-k-no/photo.jpg",
      "userId": "118440168816468865461"
     },
     "user_tz": 240
    },
    "id": "d3uE9t6QgLX5",
    "outputId": "c61d2f67-f4c7-4830-e4c4-f5ed5c8032f0"
   },
   "outputs": [
    {
     "data": {
      "text/plain": [
       "u'https://opendap.oceanobservatories.org/thredds/dodsC/ooi/molly.james@uconn.edu/20180524T140008-CP03ISSM-SBD11-06-METBKA000-recovered_host-metbk_a_dcl_instrument_recovered/deployment0005_CP03ISSM-SBD11-06-METBKA000-recovered_host-metbk_a_dcl_instrument_recovered_20170301T000032.626000-20170531T235954.139000.nc'"
      ]
     },
     "execution_count": 71,
     "metadata": {
      "tags": []
     },
     "output_type": "execute_result"
    }
   ],
   "source": [
    "# Load all files into a single xarray dataset.\n",
    "# xarray is for the geosciences community. uses pandas, numpy, and math libraries under the hood. and understands the netCDF file formats.\n",
    "data_url1 = datasets1[0]\n",
    "data_url1"
   ]
  },
  {
   "cell_type": "code",
   "execution_count": 0,
   "metadata": {
    "colab": {
     "autoexec": {
      "startup": false,
      "wait_interval": 0
     },
     "base_uri": "https://localhost:8080/",
     "height": 2618
    },
    "colab_type": "code",
    "executionInfo": {
     "elapsed": 5956,
     "status": "ok",
     "timestamp": 1527256054281,
     "user": {
      "displayName": "Molly James",
      "photoUrl": "//lh6.googleusercontent.com/-zxGvnJYOslk/AAAAAAAAAAI/AAAAAAAAAAk/MjdTty3E624/s50-c-k-no/photo.jpg",
      "userId": "118440168816468865461"
     },
     "user_tz": 240
    },
    "id": "2HYuNyiYi9Nc",
    "outputId": "c738eb09-a155-4df7-9244-243294dc3932"
   },
   "outputs": [
    {
     "data": {
      "text/plain": [
       "<xarray.Dataset>\n",
       "Dimensions:                               (time: 132121)\n",
       "Coordinates:\n",
       "    obs                                   (time) int32 0 1 2 3 4 5 6 7 8 9 ...\n",
       "  * time                                  (time) datetime64[ns] 2017-03-01T00:00:32.625999872 ...\n",
       "    lat                                   (time) float64 ...\n",
       "    lon                                   (time) float64 ...\n",
       "Data variables:\n",
       "    deployment                            (time) int32 ...\n",
       "    id                                    (time) |S64 ...\n",
       "    air_temperature                       (time) float32 ...\n",
       "    barometric_pressure                   (time) float32 ...\n",
       "    dcl_controller_timestamp              (time) object ...\n",
       "    driver_timestamp                      (time) datetime64[ns] ...\n",
       "    eastward_wind_velocity                (time) float32 ...\n",
       "    ingestion_timestamp                   (time) datetime64[ns] ...\n",
       "    internal_timestamp                    (time) datetime64[ns] ...\n",
       "    longwave_irradiance                   (time) float32 ...\n",
       "    northward_wind_velocity               (time) float32 ...\n",
       "    port_timestamp                        (time) datetime64[ns] ...\n",
       "    precipitation                         (time) float32 ...\n",
       "    preferred_timestamp                   (time) object ...\n",
       "    provenance                            (time) |S64 ...\n",
       "    relative_humidity                     (time) float32 ...\n",
       "    sea_surface_conductivity              (time) float32 ...\n",
       "    sea_surface_temperature               (time) float32 ...\n",
       "    shortwave_irradiance                  (time) float32 ...\n",
       "    met_barpres                           (time) float32 ...\n",
       "    met_windavg_mag_corr_east             (time) float64 ...\n",
       "    met_windavg_mag_corr_north            (time) float64 ...\n",
       "    met_netsirr                           (time) float32 ...\n",
       "    met_salsurf                           (time) float64 ...\n",
       "    met_spechum                           (time) float32 ...\n",
       "    ct_depth                              (time) float64 ...\n",
       "    eastward_velocity                     (time) float64 ...\n",
       "    northward_velocity                    (time) float64 ...\n",
       "    met_current_direction                 (time) float64 ...\n",
       "    met_current_speed                     (time) float64 ...\n",
       "    met_relwind_direction                 (time) float64 ...\n",
       "    met_relwind_speed                     (time) float64 ...\n",
       "    met_heatflx_minute                    (time) float64 ...\n",
       "    met_latnflx_minute                    (time) float64 ...\n",
       "    met_netlirr_minute                    (time) float64 ...\n",
       "    met_sensflx_minute                    (time) float64 ...\n",
       "    barometric_pressure_qc_executed       (time) float32 ...\n",
       "    barometric_pressure_qc_results        (time) float32 ...\n",
       "    relative_humidity_qc_executed         (time) float32 ...\n",
       "    relative_humidity_qc_results          (time) float32 ...\n",
       "    air_temperature_qc_executed           (time) float32 ...\n",
       "    air_temperature_qc_results            (time) float32 ...\n",
       "    longwave_irradiance_qc_executed       (time) float32 ...\n",
       "    longwave_irradiance_qc_results        (time) float32 ...\n",
       "    precipitation_qc_executed             (time) float32 ...\n",
       "    precipitation_qc_results              (time) float32 ...\n",
       "    sea_surface_temperature_qc_executed   (time) float32 ...\n",
       "    sea_surface_temperature_qc_results    (time) float32 ...\n",
       "    sea_surface_conductivity_qc_executed  (time) float32 ...\n",
       "    sea_surface_conductivity_qc_results   (time) float32 ...\n",
       "    shortwave_irradiance_qc_executed      (time) float32 ...\n",
       "    shortwave_irradiance_qc_results       (time) float32 ...\n",
       "    eastward_wind_velocity_qc_executed    (time) float32 ...\n",
       "    eastward_wind_velocity_qc_results     (time) float32 ...\n",
       "    northward_wind_velocity_qc_executed   (time) float32 ...\n",
       "    northward_wind_velocity_qc_results    (time) float32 ...\n",
       "    met_barpres_qc_executed               (time) float32 ...\n",
       "    met_barpres_qc_results                (time) float32 ...\n",
       "    met_current_direction_qc_executed     (time) float32 ...\n",
       "    met_current_direction_qc_results      (time) float32 ...\n",
       "    met_current_speed_qc_executed         (time) float32 ...\n",
       "    met_current_speed_qc_results          (time) float32 ...\n",
       "    met_relwind_direction_qc_executed     (time) float32 ...\n",
       "    met_relwind_direction_qc_results      (time) float32 ...\n",
       "    met_relwind_speed_qc_executed         (time) float32 ...\n",
       "    met_relwind_speed_qc_results          (time) float32 ...\n",
       "    met_netsirr_qc_executed               (time) float32 ...\n",
       "    met_netsirr_qc_results                (time) float32 ...\n",
       "    met_salsurf_qc_executed               (time) float32 ...\n",
       "    met_salsurf_qc_results                (time) float32 ...\n",
       "    met_spechum_qc_executed               (time) float32 ...\n",
       "    met_spechum_qc_results                (time) float32 ...\n",
       "Attributes:\n",
       "    _NCProperties:                      version=1|netcdflibversion=4.4.1.1|hd...\n",
       "    node:                               SBD11\n",
       "    comment:                            \n",
       "    publisher_email:                    \n",
       "    sourceUrl:                          http://oceanobservatories.org/\n",
       "    collection_method:                  recovered_host\n",
       "    stream:                             metbk_a_dcl_instrument_recovered\n",
       "    featureType:                        point\n",
       "    creator_email:                      \n",
       "    publisher_name:                     Ocean Observatories Initiative\n",
       "    date_modified:                      2018-05-24T14:00:27.503008\n",
       "    keywords:                           \n",
       "    cdm_data_type:                      Point\n",
       "    references:                         More information can be found at http...\n",
       "    Metadata_Conventions:               Unidata Dataset Discovery v1.0\n",
       "    date_created:                       2018-05-24T14:00:27.503002\n",
       "    id:                                 CP03ISSM-SBD11-06-METBKA000-recovered...\n",
       "    requestUUID:                        13e7ef22-aee5-4efc-b367-754990dc63ae\n",
       "    contributor_role:                   \n",
       "    summary:                            Dataset Generated by Stream Engine fr...\n",
       "    keywords_vocabulary:                \n",
       "    institution:                        Ocean Observatories Initiative\n",
       "    naming_authority:                   org.oceanobservatories\n",
       "    feature_Type:                       point\n",
       "    infoUrl:                            http://oceanobservatories.org/\n",
       "    license:                            \n",
       "    contributor_name:                   \n",
       "    uuid:                               13e7ef22-aee5-4efc-b367-754990dc63ae\n",
       "    creator_name:                       Ocean Observatories Initiative\n",
       "    title:                              Data produced by Stream Engine versio...\n",
       "    sensor:                             06-METBKA000\n",
       "    standard_name_vocabulary:           NetCDF Climate and Forecast (CF) Meta...\n",
       "    acknowledgement:                    \n",
       "    Conventions:                        CF-1.6\n",
       "    project:                            Ocean Observatories Initiative\n",
       "    source:                             CP03ISSM-SBD11-06-METBKA000-recovered...\n",
       "    publisher_url:                      http://oceanobservatories.org/\n",
       "    creator_url:                        http://oceanobservatories.org/\n",
       "    nodc_template_version:              NODC_NetCDF_TimeSeries_Orthogonal_Tem...\n",
       "    subsite:                            CP03ISSM\n",
       "    processing_level:                   L2\n",
       "    history:                            2018-05-24T14:00:27.502931 generated ...\n",
       "    Manufacturer:                       Star Engineering\n",
       "    ModelNumber:                        ASIMET\n",
       "    SerialNumber:                       LGR012\n",
       "    Description:                        Bulk Meteorology Instrument Package: ...\n",
       "    FirmwareVersion:                    Not specified.\n",
       "    SoftwareVersion:                    Not specified.\n",
       "    AssetUniqueID:                      CGINS-METLGR-00012\n",
       "    Notes:                              Not specified.\n",
       "    Owner:                              Not specified.\n",
       "    RemoteResources:                    []\n",
       "    ShelfLifeExpirationDate:            Not specified.\n",
       "    Mobile:                             False\n",
       "    AssetManagementRecordLastModified:  2018-05-21T12:22:39.937000\n",
       "    time_coverage_start:                2017-03-01T00:00:32.626000\n",
       "    time_coverage_end:                  2017-05-31T23:59:54.139000\n",
       "    time_coverage_resolution:           P60.16S\n",
       "    geospatial_lat_min:                 40.36192\n",
       "    geospatial_lat_max:                 40.36192\n",
       "    geospatial_lat_units:               degrees_north\n",
       "    geospatial_lat_resolution:          0.1\n",
       "    geospatial_lon_min:                 -70.87827\n",
       "    geospatial_lon_max:                 -70.87827\n",
       "    geospatial_lon_units:               degrees_east\n",
       "    geospatial_lon_resolution:          0.1\n",
       "    geospatial_vertical_units:          meters\n",
       "    geospatial_vertical_resolution:     0.1\n",
       "    geospatial_vertical_positive:       down\n",
       "    DODS.strlen:                        36\n",
       "    DODS.dimName:                       string36\n",
       "    DODS_EXTRA.Unlimited_Dimension:     obs"
      ]
     },
     "execution_count": 72,
     "metadata": {
      "tags": []
     },
     "output_type": "execute_result"
    }
   ],
   "source": [
    "# Open the dataset\n",
    "ds_issm = xr.open_dataset(data_url1)\n",
    "\n",
    "# Swap the dimensions\n",
    "ds_issm = ds_issm.swap_dims({'obs': 'time'})\n",
    "ds_issm"
   ]
  },
  {
   "cell_type": "code",
   "execution_count": 0,
   "metadata": {
    "colab": {
     "autoexec": {
      "startup": false,
      "wait_interval": 0
     },
     "base_uri": "https://localhost:8080/",
     "height": 51
    },
    "colab_type": "code",
    "executionInfo": {
     "elapsed": 300,
     "status": "ok",
     "timestamp": 1527256056697,
     "user": {
      "displayName": "Molly James",
      "photoUrl": "//lh6.googleusercontent.com/-zxGvnJYOslk/AAAAAAAAAAI/AAAAAAAAAAk/MjdTty3E624/s50-c-k-no/photo.jpg",
      "userId": "118440168816468865461"
     },
     "user_tz": 240
    },
    "id": "UwTohKA-RAJ6",
    "outputId": "246ec4e1-8170-4f90-cac3-4b2d4c590974"
   },
   "outputs": [
    {
     "name": "stdout",
     "output_type": "stream",
     "text": [
      "40.36192\n",
      "-70.87827\n"
     ]
    }
   ],
   "source": [
    "print(ds_issm.geospatial_lat_max)\n",
    "print(ds_issm.geospatial_lon_max)"
   ]
  },
  {
   "cell_type": "code",
   "execution_count": 0,
   "metadata": {
    "colab": {
     "autoexec": {
      "startup": false,
      "wait_interval": 0
     },
     "base_uri": "https://localhost:8080/",
     "height": 376
    },
    "colab_type": "code",
    "executionInfo": {
     "elapsed": 2239,
     "status": "ok",
     "timestamp": 1527256066785,
     "user": {
      "displayName": "Molly James",
      "photoUrl": "//lh6.googleusercontent.com/-zxGvnJYOslk/AAAAAAAAAAI/AAAAAAAAAAk/MjdTty3E624/s50-c-k-no/photo.jpg",
      "userId": "118440168816468865461"
     },
     "user_tz": 240
    },
    "id": "v9MAIDmPjAFE",
    "outputId": "a7ea1613-d430-41b4-ebf6-009c0785dd2e"
   },
   "outputs": [
    {
     "data": {
      "image/png": "[encoded data removed]",
      "text/plain": [
       "<matplotlib.figure.Figure at 0x7fe12886bc10>"
      ]
     },
     "metadata": {
      "tags": []
     },
     "output_type": "display_data"
    }
   ],
   "source": [
    "# plotting?\n",
    "## my attempt at plotting\n",
    "\n",
    "plt.plot(ds_issm['time'],ds_issm['met_salsurf'],'r.')\n",
    "plt.title('CP03ISSM, Sea Surface Salinity')\n",
    "plt.ylabel('Salinity')\n",
    "plt.xlabel('Time')\n",
    "plt.show()"
   ]
  },
  {
   "cell_type": "markdown",
   "metadata": {
    "colab_type": "text",
    "id": "HrgARM_SnDLu"
   },
   "source": [
    "![alt text](https://nadww01.er.usgs.gov/nwisweb/data/img/USGS.01184000.66838.00060..20170301.20170601.log.0.p50.pres.gif)\n",
    "\n",
    "This is the peak discharge time period for the Connecticut River. There will be a delay in the response of the ocean. It makes sense that the salinity would decrease after around April 15th (which it does in the above salinity plot)"
   ]
  },
  {
   "cell_type": "code",
   "execution_count": 0,
   "metadata": {
    "colab": {
     "autoexec": {
      "startup": false,
      "wait_interval": 0
     },
     "base_uri": "https://localhost:8080/",
     "height": 376
    },
    "colab_type": "code",
    "executionInfo": {
     "elapsed": 1277,
     "status": "ok",
     "timestamp": 1527256079988,
     "user": {
      "displayName": "Molly James",
      "photoUrl": "//lh6.googleusercontent.com/-zxGvnJYOslk/AAAAAAAAAAI/AAAAAAAAAAk/MjdTty3E624/s50-c-k-no/photo.jpg",
      "userId": "118440168816468865461"
     },
     "user_tz": 240
    },
    "id": "1638fixmkigf",
    "outputId": "0b4a6eed-373b-4dc7-87e0-534ee7532a25"
   },
   "outputs": [
    {
     "data": {
      "image/png": "[encoded data removed]",
      "text/plain": [
       "<matplotlib.figure.Figure at 0x7fe124a15e90>"
      ]
     },
     "metadata": {
      "tags": []
     },
     "output_type": "display_data"
    }
   ],
   "source": [
    "\n",
    "plt.plot(ds_issm['time'],ds_issm['met_salsurf_qc_executed'],'b.')\n",
    "\n",
    "plt.title('CP03ISSM, OOI QC Executed SSS')\n",
    "plt.ylabel('Salinity')\n",
    "plt.xlabel('Time')\n",
    "\n",
    "plt.show()"
   ]
  },
  {
   "cell_type": "code",
   "execution_count": 0,
   "metadata": {
    "colab": {
     "autoexec": {
      "startup": false,
      "wait_interval": 0
     },
     "base_uri": "https://localhost:8080/",
     "height": 376
    },
    "colab_type": "code",
    "executionInfo": {
     "elapsed": 1702,
     "status": "ok",
     "timestamp": 1527256084234,
     "user": {
      "displayName": "Molly James",
      "photoUrl": "//lh6.googleusercontent.com/-zxGvnJYOslk/AAAAAAAAAAI/AAAAAAAAAAk/MjdTty3E624/s50-c-k-no/photo.jpg",
      "userId": "118440168816468865461"
     },
     "user_tz": 240
    },
    "id": "P5l0WKTnuyJy",
    "outputId": "20ffcb32-0f43-4f69-d9d8-3d8dff920f51"
   },
   "outputs": [
    {
     "data": {
      "image/png": "[encoded data removed]",
      "text/plain": [
       "<matplotlib.figure.Figure at 0x7fe125625410>"
      ]
     },
     "metadata": {
      "tags": []
     },
     "output_type": "display_data"
    }
   ],
   "source": [
    "plt.plot(ds_issm['time'],ds_issm['met_salsurf_qc_results'],'.')\n",
    "\n",
    "plt.title('CP03ISSM, OOI QC Results SSS')\n",
    "plt.ylabel('Salinity')\n",
    "plt.xlabel('Time')\n",
    "plt.xlim(['2017-03-01T00:00:00.000Z','2017-06-01T00:00:00.000Z'])\n",
    "\n",
    "plt.show()"
   ]
  },
  {
   "cell_type": "markdown",
   "metadata": {
    "colab_type": "text",
    "id": "4BDQu5dzohO7"
   },
   "source": [
    "## Central Surface Mooring CP01CNSM\n",
    "going to get a larger time window to show the movement of the plume to the shelf.\n"
   ]
  },
  {
   "cell_type": "code",
   "execution_count": 0,
   "metadata": {
    "colab": {
     "autoexec": {
      "startup": false,
      "wait_interval": 0
     }
    },
    "colab_type": "code",
    "id": "owcTvQ3_o_V5"
   },
   "outputs": [],
   "source": [
    "beginDT = '2017-02-01T00:00:00.000Z'\n",
    "endDT = '2017-09-01T00:00:00.000Z'\n",
    "#Larger time period \n"
   ]
  },
  {
   "cell_type": "code",
   "execution_count": 0,
   "metadata": {
    "colab": {
     "autoexec": {
      "startup": false,
      "wait_interval": 0
     },
     "base_uri": "https://localhost:8080/",
     "height": 111
    },
    "colab_type": "code",
    "executionInfo": {
     "elapsed": 1251,
     "status": "ok",
     "timestamp": 1527256088733,
     "user": {
      "displayName": "Molly James",
      "photoUrl": "//lh6.googleusercontent.com/-zxGvnJYOslk/AAAAAAAAAAI/AAAAAAAAAAk/MjdTty3E624/s50-c-k-no/photo.jpg",
      "userId": "118440168816468865461"
     },
     "user_tz": 240
    },
    "id": "mJTNmGI1nEJv",
    "outputId": "eed7cbfa-de24-432d-dc1c-af58f5ec0468"
   },
   "outputs": [
    {
     "data": {
      "text/html": [
       "<div>\n",
       "<style scoped>\n",
       "    .dataframe tbody tr th:only-of-type {\n",
       "        vertical-align: middle;\n",
       "    }\n",
       "\n",
       "    .dataframe tbody tr th {\n",
       "        vertical-align: top;\n",
       "    }\n",
       "\n",
       "    .dataframe thead th {\n",
       "        text-align: right;\n",
       "    }\n",
       "</style>\n",
       "<table border=\"1\" class=\"dataframe\">\n",
       "  <thead>\n",
       "    <tr style=\"text-align: right;\">\n",
       "      <th></th>\n",
       "      <th>asset_id</th>\n",
       "      <th>deployment</th>\n",
       "      <th>latitude</th>\n",
       "      <th>longitude</th>\n",
       "      <th>sensor</th>\n",
       "      <th>start</th>\n",
       "      <th>stop</th>\n",
       "    </tr>\n",
       "  </thead>\n",
       "  <tbody>\n",
       "    <tr>\n",
       "      <th>0</th>\n",
       "      <td>313.0</td>\n",
       "      <td>6.0</td>\n",
       "      <td>40.133420</td>\n",
       "      <td>-70.77847</td>\n",
       "      <td>CGINS-METLGR-00031</td>\n",
       "      <td>2016-10-13 18:36:00</td>\n",
       "      <td>2017-06-09 16:05:00</td>\n",
       "    </tr>\n",
       "    <tr>\n",
       "      <th>1</th>\n",
       "      <td>146.0</td>\n",
       "      <td>7.0</td>\n",
       "      <td>40.139817</td>\n",
       "      <td>-70.77115</td>\n",
       "      <td>CGINS-METLGR-00007</td>\n",
       "      <td>2017-06-09 14:24:00</td>\n",
       "      <td>2017-11-01 20:33:00</td>\n",
       "    </tr>\n",
       "  </tbody>\n",
       "</table>\n",
       "</div>"
      ],
      "text/plain": [
       "   asset_id  deployment   latitude  longitude              sensor  \\\n",
       "0     313.0         6.0  40.133420  -70.77847  CGINS-METLGR-00031   \n",
       "1     146.0         7.0  40.139817  -70.77115  CGINS-METLGR-00007   \n",
       "\n",
       "                start                stop  \n",
       "0 2016-10-13 18:36:00 2017-06-09 16:05:00  \n",
       "1 2017-06-09 14:24:00 2017-11-01 20:33:00  "
      ]
     },
     "execution_count": 80,
     "metadata": {
      "tags": []
     },
     "output_type": "execute_result"
    }
   ],
   "source": [
    "data_request_url = ASSET_API + '/events/deployment/query'\n",
    "params = {                                   # checking if available for spring 2018\n",
    "  'beginDT':beginDT, \n",
    "  'endDT':endDT,\n",
    "  'refdes':site2+'-'+node2+'-'+instrument,   # change site between site1, site2, site3\n",
    "}\n",
    "\n",
    "# Grab the information from the server\n",
    "r = requests.get(data_request_url, params=params, auth=(USERNAME, TOKEN))\n",
    "data = r.json()\n",
    "\n",
    "df = pd.DataFrame() # Setup empty array\n",
    "for d in data:\n",
    "  df = df.append({\n",
    "      'deployment': d['deploymentNumber'],\n",
    "      'start': convert_time(d['eventStartTime']),\n",
    "      'stop': convert_time(d['eventStopTime']),\n",
    "      'latitude': d['location']['latitude'],\n",
    "      'longitude': d['location']['longitude'],\n",
    "      'sensor': d['sensor']['uid'],\n",
    "      'asset_id': d['sensor']['assetId'],\n",
    "    }, ignore_index=True)\n",
    "df"
   ]
  },
  {
   "cell_type": "code",
   "execution_count": 0,
   "metadata": {
    "colab": {
     "autoexec": {
      "startup": false,
      "wait_interval": 0
     }
    },
    "colab_type": "code",
    "id": "RSlb8pDApCnw"
   },
   "outputs": [],
   "source": [
    "# Central Surface Mooring, site2 and node2 (more data at node2)\n",
    "# DO NOT RERUN B/C ALREADY REQUESTED\n",
    "\n",
    "#data_request_url ='/'.join((DATA_API,site2,node2,instrument,method,stream))\n",
    "#params = {\n",
    "#    'beginDT':beginDT,\n",
    "#    'endDT':endDT,   \n",
    "#}\n",
    "#r = requests.get(data_request_url, params=params, auth=(USERNAME, TOKEN))\n",
    "#data = r.json()\n"
   ]
  },
  {
   "cell_type": "code",
   "execution_count": 0,
   "metadata": {
    "colab": {
     "autoexec": {
      "startup": false,
      "wait_interval": 0
     }
    },
    "colab_type": "code",
    "id": "_2l9aDhsnHah"
   },
   "outputs": [],
   "source": [
    "#data"
   ]
  },
  {
   "cell_type": "code",
   "execution_count": 0,
   "metadata": {
    "colab": {
     "autoexec": {
      "startup": false,
      "wait_interval": 0
     }
    },
    "colab_type": "code",
    "id": "1Wvci6clnD_0"
   },
   "outputs": [],
   "source": [
    "#data['allURLs'][0]"
   ]
  },
  {
   "cell_type": "code",
   "execution_count": 0,
   "metadata": {
    "colab": {
     "autoexec": {
      "startup": false,
      "wait_interval": 0
     },
     "base_uri": "https://localhost:8080/",
     "height": 105
    },
    "colab_type": "code",
    "executionInfo": {
     "elapsed": 489,
     "status": "ok",
     "timestamp": 1527256094449,
     "user": {
      "displayName": "Molly James",
      "photoUrl": "//lh6.googleusercontent.com/-zxGvnJYOslk/AAAAAAAAAAI/AAAAAAAAAAk/MjdTty3E624/s50-c-k-no/photo.jpg",
      "userId": "118440168816468865461"
     },
     "user_tz": 240
    },
    "id": "3ECw2tRjnDj2",
    "outputId": "24e86c1f-2502-4250-e06a-d0500a115328"
   },
   "outputs": [
    {
     "data": {
      "text/plain": [
       "[u'https://opendap.oceanobservatories.org/thredds/dodsC/ooi/molly.james@uconn.edu/20180524T150109-CP01CNSM-SBD12-06-METBKA000-recovered_host-metbk_a_dcl_instrument_recovered/deployment0007_CP01CNSM-SBD12-06-METBKA000-recovered_host-metbk_a_dcl_instrument_recovered_20170609T142445.583000-20170831T235925.584000.nc',\n",
       " u'https://opendap.oceanobservatories.org/thredds/dodsC/ooi/molly.james@uconn.edu/20180524T150109-CP01CNSM-SBD12-06-METBKA000-recovered_host-metbk_a_dcl_instrument_recovered/deployment0007_CP01CNSM-RID26-04-VELPTA000-recovered_host-velpt_ab_dcl_instrument_recovered_20170609T143000-20170901T000000.nc',\n",
       " u'https://opendap.oceanobservatories.org/thredds/dodsC/ooi/molly.james@uconn.edu/20180524T150109-CP01CNSM-SBD12-06-METBKA000-recovered_host-metbk_a_dcl_instrument_recovered/deployment0006_CP01CNSM-SBD12-06-METBKA000-recovered_host-metbk_a_dcl_instrument_recovered_20170201T000059.314000-20170609T095244.332000.nc',\n",
       " u'https://opendap.oceanobservatories.org/thredds/dodsC/ooi/molly.james@uconn.edu/20180524T150109-CP01CNSM-SBD12-06-METBKA000-recovered_host-metbk_a_dcl_instrument_recovered/deployment0006_CP01CNSM-RID26-04-VELPTA000-recovered_host-velpt_ab_dcl_instrument_recovered_20170201T000023-20170609T094542.nc']"
      ]
     },
     "execution_count": 83,
     "metadata": {
      "tags": []
     },
     "output_type": "execute_result"
    }
   ],
   "source": [
    "#Parse the thredds server to get a list of all NetCDF files. Each deployment is seperated into a seperate netcdf file.\n",
    "\n",
    "url = 'https://opendap.oceanobservatories.org/thredds/catalog/ooi/molly.james@uconn.edu/20180524T150109-CP01CNSM-SBD12-06-METBKA000-recovered_host-metbk_a_dcl_instrument_recovered/catalog.html'\n",
    "tds_url = 'https://opendap.oceanobservatories.org/thredds/dodsC'\n",
    "datasets = requests.get(url).text\n",
    "urls = re.findall(r'href=[\\'\"]?([^\\'\" >]+)', datasets)\n",
    "x = re.findall(r'(ooi/.*?.nc)', datasets)\n",
    "for i in x:\n",
    "    if i.endswith('.nc') == False:\n",
    "        x.remove(i)\n",
    "for i in x:\n",
    "    try:\n",
    "        float(i[-4])\n",
    "    except:\n",
    "        x.remove(i)\n",
    "datasets2 = [os.path.join(tds_url, i) for i in x]\n",
    "datasets2"
   ]
  },
  {
   "cell_type": "code",
   "execution_count": 0,
   "metadata": {
    "colab": {
     "autoexec": {
      "startup": false,
      "wait_interval": 0
     },
     "base_uri": "https://localhost:8080/",
     "height": 71
    },
    "colab_type": "code",
    "executionInfo": {
     "elapsed": 338,
     "status": "ok",
     "timestamp": 1527256096131,
     "user": {
      "displayName": "Molly James",
      "photoUrl": "//lh6.googleusercontent.com/-zxGvnJYOslk/AAAAAAAAAAI/AAAAAAAAAAk/MjdTty3E624/s50-c-k-no/photo.jpg",
      "userId": "118440168816468865461"
     },
     "user_tz": 240
    },
    "id": "SNZoC9sztMCi",
    "outputId": "6f05ade0-cee0-4749-c8c7-bbdd630e3c15"
   },
   "outputs": [
    {
     "data": {
      "text/plain": [
       "(u'https://opendap.oceanobservatories.org/thredds/dodsC/ooi/molly.james@uconn.edu/20180524T150109-CP01CNSM-SBD12-06-METBKA000-recovered_host-metbk_a_dcl_instrument_recovered/deployment0007_CP01CNSM-SBD12-06-METBKA000-recovered_host-metbk_a_dcl_instrument_recovered_20170609T142445.583000-20170831T235925.584000.nc',\n",
       " u'https://opendap.oceanobservatories.org/thredds/dodsC/ooi/molly.james@uconn.edu/20180524T150109-CP01CNSM-SBD12-06-METBKA000-recovered_host-metbk_a_dcl_instrument_recovered/deployment0006_CP01CNSM-SBD12-06-METBKA000-recovered_host-metbk_a_dcl_instrument_recovered_20170201T000059.314000-20170609T095244.332000.nc')"
      ]
     },
     "execution_count": 84,
     "metadata": {
      "tags": []
     },
     "output_type": "execute_result"
    }
   ],
   "source": [
    "# only looking at the METBK package not the VELPT\n",
    "data_url2 = datasets2[0],datasets2[2]\n",
    "data_url2"
   ]
  },
  {
   "cell_type": "code",
   "execution_count": 0,
   "metadata": {
    "colab": {
     "autoexec": {
      "startup": false,
      "wait_interval": 0
     }
    },
    "colab_type": "code",
    "id": "8vcyOYvItL4e"
   },
   "outputs": [],
   "source": [
    "#Load all files into a single xarray dataset.\n",
    "\n",
    "ds_cnsm = xr.open_mfdataset(data_url2)\n",
    "ds_cnsm = ds_cnsm.swap_dims({'obs': 'time'})\n",
    "ds_cnsm = ds_cnsm.chunk({'time': 100})\n",
    "ds_cnsm = ds_cnsm.sortby('time') # data from different deployments can overlap so we want to sort all data by time stamp.\n",
    "ds_cnsm"
   ]
  },
  {
   "cell_type": "code",
   "execution_count": 0,
   "metadata": {
    "colab": {
     "autoexec": {
      "startup": false,
      "wait_interval": 0
     },
     "base_uri": "https://localhost:8080/",
     "height": 376
    },
    "colab_type": "code",
    "executionInfo": {
     "elapsed": 1026,
     "status": "ok",
     "timestamp": 1527255872008,
     "user": {
      "displayName": "Molly James",
      "photoUrl": "//lh6.googleusercontent.com/-zxGvnJYOslk/AAAAAAAAAAI/AAAAAAAAAAk/MjdTty3E624/s50-c-k-no/photo.jpg",
      "userId": "118440168816468865461"
     },
     "user_tz": 240
    },
    "id": "JSTwiDTTtLoy",
    "outputId": "80de02d7-7bce-4d4a-8ef7-89328ed7b8ef"
   },
   "outputs": [
    {
     "data": {
      "image/png": "[encoded data removed]",
      "text/plain": [
       "<matplotlib.figure.Figure at 0x7fe1307e8ed0>"
      ]
     },
     "metadata": {
      "tags": []
     },
     "output_type": "display_data"
    }
   ],
   "source": [
    "\n",
    "plt.plot(ds_cnsm['time'],ds_cnsm['met_salsurf'],'r.')\n",
    "plt.title('CP01CNSM, Sea Surface Salinity')\n",
    "plt.ylabel('Salinity')\n",
    "plt.xlabel('Time')\n",
    "#plt.xlim(['2017-05-14T00:00:00.000Z','2017-06-15T00:00:00.000Z'])\n",
    "plt.show()\n"
   ]
  },
  {
   "cell_type": "code",
   "execution_count": 0,
   "metadata": {
    "colab": {
     "autoexec": {
      "startup": false,
      "wait_interval": 0
     },
     "base_uri": "https://localhost:8080/",
     "height": 376
    },
    "colab_type": "code",
    "executionInfo": {
     "elapsed": 839,
     "status": "ok",
     "timestamp": 1527176419156,
     "user": {
      "displayName": "Molly James",
      "photoUrl": "//lh6.googleusercontent.com/-zxGvnJYOslk/AAAAAAAAAAI/AAAAAAAAAAk/MjdTty3E624/s50-c-k-no/photo.jpg",
      "userId": "118440168816468865461"
     },
     "user_tz": 240
    },
    "id": "a9pk01bCu67O",
    "outputId": "2a53f383-fd18-4d25-b75f-db206291ffb7"
   },
   "outputs": [
    {
     "data": {
      "image/png": "[encoded data removed]",
      "text/plain": [
       "<matplotlib.figure.Figure at 0x7f663d04e090>"
      ]
     },
     "metadata": {
      "tags": []
     },
     "output_type": "display_data"
    }
   ],
   "source": [
    "\n",
    "plt.plot(ds_cnsm['time'],ds_cnsm['met_salsurf_qc_executed'],'b.')\n",
    "\n",
    "plt.title('CP01CNSM, OOI QC Executed SSS')\n",
    "plt.ylabel('Salinity')\n",
    "plt.xlabel('Time')\n",
    "plt.show()"
   ]
  },
  {
   "cell_type": "code",
   "execution_count": 0,
   "metadata": {
    "colab": {
     "autoexec": {
      "startup": false,
      "wait_interval": 0
     },
     "base_uri": "https://localhost:8080/",
     "height": 376
    },
    "colab_type": "code",
    "executionInfo": {
     "elapsed": 1017,
     "status": "ok",
     "timestamp": 1527176391658,
     "user": {
      "displayName": "Molly James",
      "photoUrl": "//lh6.googleusercontent.com/-zxGvnJYOslk/AAAAAAAAAAI/AAAAAAAAAAk/MjdTty3E624/s50-c-k-no/photo.jpg",
      "userId": "118440168816468865461"
     },
     "user_tz": 240
    },
    "id": "KUbF7OLHu6uo",
    "outputId": "68203a88-f095-42d3-ec2a-44543ac4a836"
   },
   "outputs": [
    {
     "data": {
      "image/png": "[encoded data removed]",
      "text/plain": [
       "<matplotlib.figure.Figure at 0x7f663273a590>"
      ]
     },
     "metadata": {
      "tags": []
     },
     "output_type": "display_data"
    }
   ],
   "source": [
    "plt.plot(ds_cnsm['time'],ds_cnsm['met_salsurf_qc_results'],'.')\n",
    "\n",
    "plt.title('CP01CNSM, OOI QC Results SSS')\n",
    "plt.ylabel('Salinity')\n",
    "plt.xlabel('Time')\n",
    "plt.show()\n",
    "#this doesn't look right either..."
   ]
  },
  {
   "cell_type": "markdown",
   "metadata": {
    "colab_type": "text",
    "id": "4BVg5MHXzu6_"
   },
   "source": [
    "Some strangeness with the QC results, scattered low salinity things that aren't in a pattern"
   ]
  },
  {
   "cell_type": "markdown",
   "metadata": {
    "colab_type": "text",
    "id": "_YOWcGtHz3xo"
   },
   "source": [
    "## Offshore Surface Mooring CP04OSSM\n",
    "Now to check if the salinity is affected by the plume this far out onto the shelf."
   ]
  },
  {
   "cell_type": "code",
   "execution_count": 0,
   "metadata": {
    "colab": {
     "autoexec": {
      "startup": false,
      "wait_interval": 0
     }
    },
    "colab_type": "code",
    "id": "DzJ_F7YP0MRR"
   },
   "outputs": [],
   "source": [
    "beginDT = '2017-02-01T00:00:00.000Z'\n",
    "endDT = '2017-09-01T00:00:00.000Z'\n",
    "#Larger time period \n"
   ]
  },
  {
   "cell_type": "code",
   "execution_count": 0,
   "metadata": {
    "colab": {
     "autoexec": {
      "startup": false,
      "wait_interval": 0
     },
     "base_uri": "https://localhost:8080/",
     "height": 111
    },
    "colab_type": "code",
    "executionInfo": {
     "elapsed": 615,
     "status": "ok",
     "timestamp": 1527176629800,
     "user": {
      "displayName": "Molly James",
      "photoUrl": "//lh6.googleusercontent.com/-zxGvnJYOslk/AAAAAAAAAAI/AAAAAAAAAAk/MjdTty3E624/s50-c-k-no/photo.jpg",
      "userId": "118440168816468865461"
     },
     "user_tz": 240
    },
    "id": "o0n1nf6p0MH4",
    "outputId": "965f4382-d7ff-45e6-c29f-819c66b336fd"
   },
   "outputs": [
    {
     "data": {
      "text/html": [
       "<div>\n",
       "<style scoped>\n",
       "    .dataframe tbody tr th:only-of-type {\n",
       "        vertical-align: middle;\n",
       "    }\n",
       "\n",
       "    .dataframe tbody tr th {\n",
       "        vertical-align: top;\n",
       "    }\n",
       "\n",
       "    .dataframe thead th {\n",
       "        text-align: right;\n",
       "    }\n",
       "</style>\n",
       "<table border=\"1\" class=\"dataframe\">\n",
       "  <thead>\n",
       "    <tr style=\"text-align: right;\">\n",
       "      <th></th>\n",
       "      <th>asset_id</th>\n",
       "      <th>deployment</th>\n",
       "      <th>latitude</th>\n",
       "      <th>longitude</th>\n",
       "      <th>sensor</th>\n",
       "      <th>start</th>\n",
       "      <th>stop</th>\n",
       "    </tr>\n",
       "  </thead>\n",
       "  <tbody>\n",
       "    <tr>\n",
       "      <th>0</th>\n",
       "      <td>290.0</td>\n",
       "      <td>5.0</td>\n",
       "      <td>39.937070</td>\n",
       "      <td>-70.886970</td>\n",
       "      <td>CGINS-METLGR-00016</td>\n",
       "      <td>2016-10-12 14:26:00</td>\n",
       "      <td>2017-06-08 12:05:00</td>\n",
       "    </tr>\n",
       "    <tr>\n",
       "      <th>1</th>\n",
       "      <td>235.0</td>\n",
       "      <td>6.0</td>\n",
       "      <td>39.939367</td>\n",
       "      <td>-70.876817</td>\n",
       "      <td>CGINS-METLGR-00038</td>\n",
       "      <td>2017-06-06 14:51:00</td>\n",
       "      <td>2017-11-02 14:15:00</td>\n",
       "    </tr>\n",
       "  </tbody>\n",
       "</table>\n",
       "</div>"
      ],
      "text/plain": [
       "   asset_id  deployment   latitude  longitude              sensor  \\\n",
       "0     290.0         5.0  39.937070 -70.886970  CGINS-METLGR-00016   \n",
       "1     235.0         6.0  39.939367 -70.876817  CGINS-METLGR-00038   \n",
       "\n",
       "                start                stop  \n",
       "0 2016-10-12 14:26:00 2017-06-08 12:05:00  \n",
       "1 2017-06-06 14:51:00 2017-11-02 14:15:00  "
      ]
     },
     "execution_count": 228,
     "metadata": {
      "tags": []
     },
     "output_type": "execute_result"
    }
   ],
   "source": [
    "data_request_url = ASSET_API + '/events/deployment/query'\n",
    "params = {                                   # checking if available for spring 2018\n",
    "  'beginDT':beginDT, \n",
    "  'endDT':endDT,\n",
    "  'refdes':site3+'-'+node+'-'+instrument,   # change site between site1, site2, site3\n",
    "}\n",
    "\n",
    "# Grab the information from the server\n",
    "r = requests.get(data_request_url, params=params, auth=(USERNAME, TOKEN))\n",
    "data = r.json()\n",
    "\n",
    "df = pd.DataFrame() # Setup empty array\n",
    "for d in data:\n",
    "  df = df.append({\n",
    "      'deployment': d['deploymentNumber'],\n",
    "      'start': convert_time(d['eventStartTime']),\n",
    "      'stop': convert_time(d['eventStopTime']),\n",
    "      'latitude': d['location']['latitude'],\n",
    "      'longitude': d['location']['longitude'],\n",
    "      'sensor': d['sensor']['uid'],\n",
    "      'asset_id': d['sensor']['assetId'],\n",
    "    }, ignore_index=True)\n",
    "df"
   ]
  },
  {
   "cell_type": "code",
   "execution_count": 0,
   "metadata": {
    "colab": {
     "autoexec": {
      "startup": false,
      "wait_interval": 0
     }
    },
    "colab_type": "code",
    "id": "FHwVUo0Q0L-8"
   },
   "outputs": [],
   "source": [
    "# Offshore Surface Mooring, site3 and node\n",
    "# DO NOT RERUN B/C ALREADY REQUESTED\n",
    "#data_request_url ='/'.join((DATA_API,site3,node,instrument,method,stream))\n",
    "#params = {\n",
    "#    'beginDT':beginDT,\n",
    "#    'endDT':endDT,   \n",
    "#}\n",
    "#r = requests.get(data_request_url, params=params, auth=(USERNAME, TOKEN))\n",
    "#data = r.json()"
   ]
  },
  {
   "cell_type": "code",
   "execution_count": 0,
   "metadata": {
    "colab": {
     "autoexec": {
      "startup": false,
      "wait_interval": 0
     },
     "base_uri": "https://localhost:8080/",
     "height": 136
    },
    "colab_type": "code",
    "executionInfo": {
     "elapsed": 282,
     "status": "ok",
     "timestamp": 1527176652060,
     "user": {
      "displayName": "Molly James",
      "photoUrl": "//lh6.googleusercontent.com/-zxGvnJYOslk/AAAAAAAAAAI/AAAAAAAAAAk/MjdTty3E624/s50-c-k-no/photo.jpg",
      "userId": "118440168816468865461"
     },
     "user_tz": 240
    },
    "id": "LJWqaI-n0Lzg",
    "outputId": "5e5822b5-d37e-4de2-ab15-942862208466"
   },
   "outputs": [
    {
     "data": {
      "text/plain": [
       "{u'allURLs': [u'https://opendap.oceanobservatories.org/thredds/catalog/ooi/molly.james@uconn.edu/20180524T154404-CP04OSSM-SBD11-06-METBKA000-recovered_host-metbk_a_dcl_instrument_recovered/catalog.html',\n",
       "  u'https://opendap.oceanobservatories.org/async_results/molly.james@uconn.edu/20180524T154404-CP04OSSM-SBD11-06-METBKA000-recovered_host-metbk_a_dcl_instrument_recovered'],\n",
       " u'numberOfSubJobs': 8,\n",
       " u'outputURL': u'https://opendap.oceanobservatories.org/thredds/catalog/ooi/molly.james@uconn.edu/20180524T154404-CP04OSSM-SBD11-06-METBKA000-recovered_host-metbk_a_dcl_instrument_recovered/catalog.html',\n",
       " u'requestUUID': u'0fdd530d-e653-4fe9-807a-1444c4606d05',\n",
       " u'sizeCalculation': 32989787,\n",
       " u'timeCalculation': 60}"
      ]
     },
     "execution_count": 230,
     "metadata": {
      "tags": []
     },
     "output_type": "execute_result"
    }
   ],
   "source": [
    "#data"
   ]
  },
  {
   "cell_type": "code",
   "execution_count": 0,
   "metadata": {
    "colab": {
     "autoexec": {
      "startup": false,
      "wait_interval": 0
     },
     "base_uri": "https://localhost:8080/",
     "height": 34
    },
    "colab_type": "code",
    "executionInfo": {
     "elapsed": 280,
     "status": "ok",
     "timestamp": 1527177096426,
     "user": {
      "displayName": "Molly James",
      "photoUrl": "//lh6.googleusercontent.com/-zxGvnJYOslk/AAAAAAAAAAI/AAAAAAAAAAk/MjdTty3E624/s50-c-k-no/photo.jpg",
      "userId": "118440168816468865461"
     },
     "user_tz": 240
    },
    "id": "uc21tjGR0lVT",
    "outputId": "269c4729-fa20-44ea-dcc8-5f0b9a00d9d3"
   },
   "outputs": [
    {
     "data": {
      "text/plain": [
       "u'https://opendap.oceanobservatories.org/thredds/catalog/ooi/molly.james@uconn.edu/20180524T154404-CP04OSSM-SBD11-06-METBKA000-recovered_host-metbk_a_dcl_instrument_recovered/catalog.html'"
      ]
     },
     "execution_count": 234,
     "metadata": {
      "tags": []
     },
     "output_type": "execute_result"
    }
   ],
   "source": [
    "#data['allURLs'][0]"
   ]
  },
  {
   "cell_type": "code",
   "execution_count": 0,
   "metadata": {
    "colab": {
     "autoexec": {
      "startup": false,
      "wait_interval": 0
     },
     "base_uri": "https://localhost:8080/",
     "height": 105
    },
    "colab_type": "code",
    "executionInfo": {
     "elapsed": 410,
     "status": "ok",
     "timestamp": 1527177140976,
     "user": {
      "displayName": "Molly James",
      "photoUrl": "//lh6.googleusercontent.com/-zxGvnJYOslk/AAAAAAAAAAI/AAAAAAAAAAk/MjdTty3E624/s50-c-k-no/photo.jpg",
      "userId": "118440168816468865461"
     },
     "user_tz": 240
    },
    "id": "Y554VF-q0lLD",
    "outputId": "ec086d8a-4875-4620-dde3-9457ef6ed9cf"
   },
   "outputs": [
    {
     "data": {
      "text/plain": [
       "[u'https://opendap.oceanobservatories.org/thredds/dodsC/ooi/molly.james@uconn.edu/20180524T154404-CP04OSSM-SBD11-06-METBKA000-recovered_host-metbk_a_dcl_instrument_recovered/deployment0006_CP04OSSM-SBD11-06-METBKA000-recovered_host-metbk_a_dcl_instrument_recovered_20170606T145118.029000-20170831T235945.852000.nc',\n",
       " u'https://opendap.oceanobservatories.org/thredds/dodsC/ooi/molly.james@uconn.edu/20180524T154404-CP04OSSM-SBD11-06-METBKA000-recovered_host-metbk_a_dcl_instrument_recovered/deployment0006_CP04OSSM-RID26-04-VELPTA000-recovered_host-velpt_ab_dcl_instrument_recovered_20170606T150000-20170815T150000.nc',\n",
       " u'https://opendap.oceanobservatories.org/thredds/dodsC/ooi/molly.james@uconn.edu/20180524T154404-CP04OSSM-SBD11-06-METBKA000-recovered_host-metbk_a_dcl_instrument_recovered/deployment0005_CP04OSSM-SBD11-06-METBKA000-recovered_host-metbk_a_dcl_instrument_recovered_20170201T000045.266000-20170608T104658.593000.nc',\n",
       " u'https://opendap.oceanobservatories.org/thredds/dodsC/ooi/molly.james@uconn.edu/20180524T154404-CP04OSSM-SBD11-06-METBKA000-recovered_host-metbk_a_dcl_instrument_recovered/deployment0005_CP04OSSM-RID26-04-VELPTA000-recovered_host-velpt_ab_dcl_instrument_recovered_20170201T000014-20170608T103029.nc']"
      ]
     },
     "execution_count": 235,
     "metadata": {
      "tags": []
     },
     "output_type": "execute_result"
    }
   ],
   "source": [
    "#Parse the thredds server to get a list of all NetCDF files. Each deployment is seperated into a seperate netcdf file.\n",
    "\n",
    "url = 'https://opendap.oceanobservatories.org/thredds/catalog/ooi/molly.james@uconn.edu/20180524T154404-CP04OSSM-SBD11-06-METBKA000-recovered_host-metbk_a_dcl_instrument_recovered/catalog.html'\n",
    "tds_url = 'https://opendap.oceanobservatories.org/thredds/dodsC'\n",
    "datasets = requests.get(url).text\n",
    "urls = re.findall(r'href=[\\'\"]?([^\\'\" >]+)', datasets)\n",
    "x = re.findall(r'(ooi/.*?.nc)', datasets)\n",
    "for i in x:\n",
    "    if i.endswith('.nc') == False:\n",
    "        x.remove(i)\n",
    "for i in x:\n",
    "    try:\n",
    "        float(i[-4])\n",
    "    except:\n",
    "        x.remove(i)\n",
    "datasets3 = [os.path.join(tds_url, i) for i in x]\n",
    "datasets3"
   ]
  },
  {
   "cell_type": "code",
   "execution_count": 0,
   "metadata": {
    "colab": {
     "autoexec": {
      "startup": false,
      "wait_interval": 0
     },
     "base_uri": "https://localhost:8080/",
     "height": 71
    },
    "colab_type": "code",
    "executionInfo": {
     "elapsed": 298,
     "status": "ok",
     "timestamp": 1527177178837,
     "user": {
      "displayName": "Molly James",
      "photoUrl": "//lh6.googleusercontent.com/-zxGvnJYOslk/AAAAAAAAAAI/AAAAAAAAAAk/MjdTty3E624/s50-c-k-no/photo.jpg",
      "userId": "118440168816468865461"
     },
     "user_tz": 240
    },
    "id": "a5vGisp10k_C",
    "outputId": "73b4f287-22bf-4de6-87f1-176f08f7e092"
   },
   "outputs": [
    {
     "data": {
      "text/plain": [
       "(u'https://opendap.oceanobservatories.org/thredds/dodsC/ooi/molly.james@uconn.edu/20180524T154404-CP04OSSM-SBD11-06-METBKA000-recovered_host-metbk_a_dcl_instrument_recovered/deployment0006_CP04OSSM-SBD11-06-METBKA000-recovered_host-metbk_a_dcl_instrument_recovered_20170606T145118.029000-20170831T235945.852000.nc',\n",
       " u'https://opendap.oceanobservatories.org/thredds/dodsC/ooi/molly.james@uconn.edu/20180524T154404-CP04OSSM-SBD11-06-METBKA000-recovered_host-metbk_a_dcl_instrument_recovered/deployment0005_CP04OSSM-SBD11-06-METBKA000-recovered_host-metbk_a_dcl_instrument_recovered_20170201T000045.266000-20170608T104658.593000.nc')"
      ]
     },
     "execution_count": 236,
     "metadata": {
      "tags": []
     },
     "output_type": "execute_result"
    }
   ],
   "source": [
    "# only looking at the METBK package not the VELPT\n",
    "data_url3 = datasets3[0],datasets3[2]\n",
    "data_url3"
   ]
  },
  {
   "cell_type": "code",
   "execution_count": 0,
   "metadata": {
    "colab": {
     "autoexec": {
      "startup": false,
      "wait_interval": 0
     },
     "base_uri": "https://localhost:8080/",
     "height": 2618
    },
    "colab_type": "code",
    "executionInfo": {
     "elapsed": 206161,
     "status": "ok",
     "timestamp": 1527177436980,
     "user": {
      "displayName": "Molly James",
      "photoUrl": "//lh6.googleusercontent.com/-zxGvnJYOslk/AAAAAAAAAAI/AAAAAAAAAAk/MjdTty3E624/s50-c-k-no/photo.jpg",
      "userId": "118440168816468865461"
     },
     "user_tz": 240
    },
    "id": "d0MvVP3U2jwD",
    "outputId": "30f2b38f-1f31-4abe-9411-d55f01769ab3"
   },
   "outputs": [
    {
     "data": {
      "text/plain": [
       "<xarray.Dataset>\n",
       "Dimensions:                               (time: 304922)\n",
       "Coordinates:\n",
       "    obs                                   (time) int64 0 1 2 3 4 5 6 7 8 9 ...\n",
       "  * time                                  (time) datetime64[ns] 2017-02-01T00:00:59.314000384 ...\n",
       "    lat                                   (time) float64 40.13 40.13 40.13 ...\n",
       "    lon                                   (time) float64 -70.78 -70.78 ...\n",
       "Data variables:\n",
       "    deployment                            (time) int32 6 6 6 6 6 6 6 6 6 6 6 ...\n",
       "    id                                    (time) |S64 '5b3d928c-f989-4c39-88d7-492d057fec77' ...\n",
       "    air_temperature                       (time) float32 7.299 7.375 7.39 ...\n",
       "    barometric_pressure                   (time) float32 1008.05 1008.05 ...\n",
       "    dcl_controller_timestamp              (time) object 'empty' 'empty' ...\n",
       "    driver_timestamp                      (time) datetime64[ns] 2017-10-21T20:15:36.599900160 ...\n",
       "    eastward_wind_velocity                (time) float32 1.29 1.99 1.64 1.06 ...\n",
       "    ingestion_timestamp                   (time) datetime64[ns] 2017-10-21T20:16:28.013000192 ...\n",
       "    internal_timestamp                    (time) datetime64[ns] 1900-01-01 ...\n",
       "    longwave_irradiance                   (time) float32 289.0 323.7 331.6 ...\n",
       "    northward_wind_velocity               (time) float32 4.2 2.55 3.84 3.07 ...\n",
       "    port_timestamp                        (time) datetime64[ns] 2017-02-01T00:00:59.314000384 ...\n",
       "    precipitation                         (time) float32 11.8 11.8 11.79 ...\n",
       "    preferred_timestamp                   (time) object 'port_timestamp' ...\n",
       "    provenance                            (time) |S64 '4bf83803-1d07-4701-8aec-ada9b4a7ae8d' ...\n",
       "    relative_humidity                     (time) float32 80.573 80.596 ...\n",
       "    sea_surface_conductivity              (time) float32 3.6456 3.6452 3.645 ...\n",
       "    sea_surface_temperature               (time) float32 9.53 9.525 9.523 ...\n",
       "    shortwave_irradiance                  (time) float32 3.1 3.4 3.5 3.8 3.9 ...\n",
       "    met_barpres                           (time) float32 100805.0 100805.0 ...\n",
       "    met_windavg_mag_corr_east             (time) float64 0.2139 1.299 0.6419 ...\n",
       "    met_windavg_mag_corr_north            (time) float64 4.388 2.962 4.126 ...\n",
       "    met_netsirr                           (time) float32 2.9294999 3.213 ...\n",
       "    met_salsurf                           (time) float64 33.77 33.77 33.77 ...\n",
       "    met_spechum                           (time) float32 5.120335 5.1485806 ...\n",
       "    ct_depth                              (time) float64 1.067 1.067 1.067 ...\n",
       "    eastward_velocity                     (time) float64 -0.2335 -0.2333 ...\n",
       "    northward_velocity                    (time) float64 0.0532 0.05169 ...\n",
       "    met_current_direction                 (time) float64 282.8 282.5 282.3 ...\n",
       "    met_current_speed                     (time) float64 0.2394 0.239 0.2387 ...\n",
       "    met_relwind_direction                 (time) float64 5.891 27.77 12.12 ...\n",
       "    met_relwind_speed                     (time) float64 4.358 3.289 4.168 ...\n",
       "    met_heatflx_minute                    (time) float64 nan nan nan nan nan ...\n",
       "    met_latnflx_minute                    (time) float64 nan nan nan nan nan ...\n",
       "    met_netlirr_minute                    (time) float64 nan nan nan nan nan ...\n",
       "    met_sensflx_minute                    (time) float64 nan nan nan nan nan ...\n",
       "    barometric_pressure_qc_executed       (time) float32 29.0 29.0 29.0 29.0 ...\n",
       "    barometric_pressure_qc_results        (time) float32 29.0 29.0 29.0 29.0 ...\n",
       "    relative_humidity_qc_executed         (time) float32 29.0 29.0 29.0 29.0 ...\n",
       "    relative_humidity_qc_results          (time) float32 29.0 29.0 29.0 29.0 ...\n",
       "    air_temperature_qc_executed           (time) float32 29.0 29.0 29.0 29.0 ...\n",
       "    air_temperature_qc_results            (time) float32 29.0 29.0 29.0 29.0 ...\n",
       "    longwave_irradiance_qc_executed       (time) float32 29.0 29.0 29.0 29.0 ...\n",
       "    longwave_irradiance_qc_results        (time) float32 29.0 29.0 29.0 29.0 ...\n",
       "    precipitation_qc_executed             (time) float32 29.0 29.0 29.0 29.0 ...\n",
       "    precipitation_qc_results              (time) float32 13.0 13.0 13.0 13.0 ...\n",
       "    sea_surface_temperature_qc_executed   (time) float32 29.0 29.0 29.0 29.0 ...\n",
       "    sea_surface_temperature_qc_results    (time) float32 29.0 29.0 29.0 29.0 ...\n",
       "    sea_surface_conductivity_qc_executed  (time) float32 29.0 29.0 29.0 29.0 ...\n",
       "    sea_surface_conductivity_qc_results   (time) float32 13.0 13.0 13.0 13.0 ...\n",
       "    shortwave_irradiance_qc_executed      (time) float32 29.0 29.0 29.0 29.0 ...\n",
       "    shortwave_irradiance_qc_results       (time) float32 29.0 29.0 29.0 29.0 ...\n",
       "    eastward_wind_velocity_qc_executed    (time) float32 29.0 29.0 29.0 29.0 ...\n",
       "    eastward_wind_velocity_qc_results     (time) float32 29.0 29.0 29.0 29.0 ...\n",
       "    northward_wind_velocity_qc_executed   (time) float32 29.0 29.0 29.0 29.0 ...\n",
       "    northward_wind_velocity_qc_results    (time) float32 29.0 29.0 29.0 29.0 ...\n",
       "    met_barpres_qc_executed               (time) float32 29.0 29.0 29.0 29.0 ...\n",
       "    met_barpres_qc_results                (time) float32 29.0 29.0 29.0 29.0 ...\n",
       "    met_current_direction_qc_executed     (time) float32 29.0 29.0 29.0 29.0 ...\n",
       "    met_current_direction_qc_results      (time) float32 29.0 29.0 29.0 29.0 ...\n",
       "    met_current_speed_qc_executed         (time) float32 29.0 29.0 29.0 29.0 ...\n",
       "    met_current_speed_qc_results          (time) float32 29.0 29.0 29.0 29.0 ...\n",
       "    met_relwind_direction_qc_executed     (time) float32 29.0 29.0 29.0 29.0 ...\n",
       "    met_relwind_direction_qc_results      (time) float32 29.0 29.0 29.0 29.0 ...\n",
       "    met_relwind_speed_qc_executed         (time) float32 29.0 29.0 29.0 29.0 ...\n",
       "    met_relwind_speed_qc_results          (time) float32 29.0 29.0 29.0 29.0 ...\n",
       "    met_netsirr_qc_executed               (time) float32 29.0 29.0 29.0 29.0 ...\n",
       "    met_netsirr_qc_results                (time) float32 29.0 29.0 29.0 29.0 ...\n",
       "    met_salsurf_qc_executed               (time) float32 29.0 29.0 29.0 29.0 ...\n",
       "    met_salsurf_qc_results                (time) float32 29.0 29.0 29.0 29.0 ...\n",
       "    met_spechum_qc_executed               (time) float32 29.0 29.0 29.0 29.0 ...\n",
       "    met_spechum_qc_results                (time) float32 29.0 29.0 29.0 29.0 ...\n",
       "Attributes:\n",
       "    _NCProperties:                      version=1|netcdflibversion=4.4.1.1|hd...\n",
       "    node:                               SBD12\n",
       "    comment:                            \n",
       "    publisher_email:                    \n",
       "    sourceUrl:                          http://oceanobservatories.org/\n",
       "    collection_method:                  recovered_host\n",
       "    stream:                             metbk_a_dcl_instrument_recovered\n",
       "    featureType:                        point\n",
       "    creator_email:                      \n",
       "    publisher_name:                     Ocean Observatories Initiative\n",
       "    date_modified:                      2018-05-24T15:01:30.683753\n",
       "    keywords:                           \n",
       "    cdm_data_type:                      Point\n",
       "    references:                         More information can be found at http...\n",
       "    Metadata_Conventions:               Unidata Dataset Discovery v1.0\n",
       "    date_created:                       2018-05-24T15:01:30.683746\n",
       "    id:                                 CP01CNSM-SBD12-06-METBKA000-recovered...\n",
       "    requestUUID:                        eefba1c8-ae03-4b39-bd61-d2ba37800b06\n",
       "    contributor_role:                   \n",
       "    summary:                            Dataset Generated by Stream Engine fr...\n",
       "    keywords_vocabulary:                \n",
       "    institution:                        Ocean Observatories Initiative\n",
       "    naming_authority:                   org.oceanobservatories\n",
       "    feature_Type:                       point\n",
       "    infoUrl:                            http://oceanobservatories.org/\n",
       "    license:                            \n",
       "    contributor_name:                   \n",
       "    uuid:                               eefba1c8-ae03-4b39-bd61-d2ba37800b06\n",
       "    creator_name:                       Ocean Observatories Initiative\n",
       "    title:                              Data produced by Stream Engine versio...\n",
       "    sensor:                             06-METBKA000\n",
       "    standard_name_vocabulary:           NetCDF Climate and Forecast (CF) Meta...\n",
       "    acknowledgement:                    \n",
       "    Conventions:                        CF-1.6\n",
       "    project:                            Ocean Observatories Initiative\n",
       "    source:                             CP01CNSM-SBD12-06-METBKA000-recovered...\n",
       "    publisher_url:                      http://oceanobservatories.org/\n",
       "    creator_url:                        http://oceanobservatories.org/\n",
       "    nodc_template_version:              NODC_NetCDF_TimeSeries_Orthogonal_Tem...\n",
       "    subsite:                            CP01CNSM\n",
       "    processing_level:                   L2\n",
       "    history:                            2018-05-24T15:01:30.683675 generated ...\n",
       "    Manufacturer:                       Star Engineering\n",
       "    ModelNumber:                        ASIMET\n",
       "    SerialNumber:                       LGR007\n",
       "    Description:                        Bulk Meteorology Instrument Package: ...\n",
       "    FirmwareVersion:                    Not specified.\n",
       "    SoftwareVersion:                    Not specified.\n",
       "    AssetUniqueID:                      CGINS-METLGR-00007\n",
       "    Notes:                              Not specified.\n",
       "    Owner:                              Not specified.\n",
       "    RemoteResources:                    []\n",
       "    ShelfLifeExpirationDate:            Not specified.\n",
       "    Mobile:                             False\n",
       "    AssetManagementRecordLastModified:  2018-05-21T12:22:39.322000\n",
       "    time_coverage_start:                2017-06-09T14:24:45.583000\n",
       "    time_coverage_end:                  2017-08-31T23:59:25.584000\n",
       "    time_coverage_resolution:           P60.00S\n",
       "    geospatial_lat_min:                 40.13981667\n",
       "    geospatial_lat_max:                 40.13981667\n",
       "    geospatial_lat_units:               degrees_north\n",
       "    geospatial_lat_resolution:          0.1\n",
       "    geospatial_lon_min:                 -70.77115\n",
       "    geospatial_lon_max:                 -70.77115\n",
       "    geospatial_lon_units:               degrees_east\n",
       "    geospatial_lon_resolution:          0.1\n",
       "    geospatial_vertical_units:          meters\n",
       "    geospatial_vertical_resolution:     0.1\n",
       "    geospatial_vertical_positive:       down\n",
       "    DODS.strlen:                        36\n",
       "    DODS.dimName:                       string36\n",
       "    DODS_EXTRA.Unlimited_Dimension:     obs"
      ]
     },
     "execution_count": 237,
     "metadata": {
      "tags": []
     },
     "output_type": "execute_result"
    }
   ],
   "source": [
    "#Load all files into a single xarray dataset.\n",
    "\n",
    "ds_ossm = xr.open_mfdataset(data_url2)\n",
    "ds_ossm = ds_ossm.swap_dims({'obs': 'time'})\n",
    "ds_ossm = ds_ossm.chunk({'time': 100})\n",
    "ds_ossm = ds_ossm.sortby('time') # data from different deployments can overlap so we want to sort all data by time stamp.\n",
    "ds_ossm"
   ]
  },
  {
   "cell_type": "code",
   "execution_count": 0,
   "metadata": {
    "colab": {
     "autoexec": {
      "startup": false,
      "wait_interval": 0
     },
     "base_uri": "https://localhost:8080/",
     "height": 376
    },
    "colab_type": "code",
    "executionInfo": {
     "elapsed": 1071,
     "status": "ok",
     "timestamp": 1527177729831,
     "user": {
      "displayName": "Molly James",
      "photoUrl": "//lh6.googleusercontent.com/-zxGvnJYOslk/AAAAAAAAAAI/AAAAAAAAAAk/MjdTty3E624/s50-c-k-no/photo.jpg",
      "userId": "118440168816468865461"
     },
     "user_tz": 240
    },
    "id": "l5hl7mhv2jm5",
    "outputId": "5385d289-d775-4607-a735-8516844562f4"
   },
   "outputs": [
    {
     "data": {
      "image/png": "[encoded data removed]",
      "text/plain": [
       "<matplotlib.figure.Figure at 0x7f6636737590>"
      ]
     },
     "metadata": {
      "tags": []
     },
     "output_type": "display_data"
    }
   ],
   "source": [
    "plt.plot(ds_ossm['time'],ds_ossm['met_salsurf'],'r.')\n",
    "plt.title('CP04OSSM, Sea Surface Salinity')\n",
    "plt.ylabel('Salinity')\n",
    "plt.xlabel('Time')\n",
    "# plt.xlim(['2017-03-01T00:00:00.000Z','2017-06-01T00:00:00.000Z'])\n",
    "plt.show()"
   ]
  },
  {
   "cell_type": "code",
   "execution_count": 0,
   "metadata": {
    "colab": {
     "autoexec": {
      "startup": false,
      "wait_interval": 0
     },
     "base_uri": "https://localhost:8080/",
     "height": 376
    },
    "colab_type": "code",
    "executionInfo": {
     "elapsed": 976,
     "status": "ok",
     "timestamp": 1527177747462,
     "user": {
      "displayName": "Molly James",
      "photoUrl": "//lh6.googleusercontent.com/-zxGvnJYOslk/AAAAAAAAAAI/AAAAAAAAAAk/MjdTty3E624/s50-c-k-no/photo.jpg",
      "userId": "118440168816468865461"
     },
     "user_tz": 240
    },
    "id": "uBYc3CmB2jcF",
    "outputId": "0108f3ed-2e26-449f-cc0e-3b148a246293"
   },
   "outputs": [
    {
     "data": {
      "image/png": "[encoded data removed]",
      "text/plain": [
       "<matplotlib.figure.Figure at 0x7f663269b7d0>"
      ]
     },
     "metadata": {
      "tags": []
     },
     "output_type": "display_data"
    }
   ],
   "source": [
    "\n",
    "plt.plot(ds_ossm['time'],ds_ossm['met_salsurf_qc_executed'],'b.')\n",
    "\n",
    "plt.title('CP04OSSM, OOI QC Executed SSS')\n",
    "plt.ylabel('Salinity')\n",
    "plt.xlabel('Time')\n",
    "plt.show()"
   ]
  },
  {
   "cell_type": "code",
   "execution_count": 0,
   "metadata": {
    "colab": {
     "autoexec": {
      "startup": false,
      "wait_interval": 0
     },
     "base_uri": "https://localhost:8080/",
     "height": 376
    },
    "colab_type": "code",
    "executionInfo": {
     "elapsed": 1020,
     "status": "ok",
     "timestamp": 1527177768929,
     "user": {
      "displayName": "Molly James",
      "photoUrl": "//lh6.googleusercontent.com/-zxGvnJYOslk/AAAAAAAAAAI/AAAAAAAAAAk/MjdTty3E624/s50-c-k-no/photo.jpg",
      "userId": "118440168816468865461"
     },
     "user_tz": 240
    },
    "id": "Lsmgb8jl4p8b",
    "outputId": "595d2bfb-ec27-479c-c18e-82fc62ce682f"
   },
   "outputs": [
    {
     "data": {
      "image/png": "[encoded data removed]",
      "text/plain": [
       "<matplotlib.figure.Figure at 0x7f6635470250>"
      ]
     },
     "metadata": {
      "tags": []
     },
     "output_type": "display_data"
    }
   ],
   "source": [
    "\n",
    "plt.plot(ds_ossm['time'],ds_ossm['met_salsurf_qc_results'],'.')\n",
    "\n",
    "plt.title('CP04OSSM, OOI QC Executed SSS')\n",
    "plt.ylabel('Salinity')\n",
    "plt.xlabel('Time')\n",
    "plt.show()"
   ]
  },
  {
   "cell_type": "markdown",
   "metadata": {
    "colab_type": "text",
    "id": "z3G0_f_fUWtj"
   },
   "source": [
    "# Satellite data for peak discharge LIS\n",
    "[Connecticut River Plume viewed from Satellite, 555 nm](https://drive.google.com/file/d/1WMORja_-R_cCKqvs_du7gSw5wV0vFq08/view?usp=sharing)\n",
    "\n",
    "[2017/04/16\n",
    "](https://drive.google.com/file/d/1O4Z12mJV4k3gHYuVcEIF0GzBveq-If5l/view?usp=sharing)\n",
    "\n",
    "[2017/04/18\n",
    "](https://drive.google.com/file/d/1lkwUK7yFpEioCnxHTUmkvtNQq7xRPFX_/view?usp=sharing)\n",
    "\n",
    "[2017/05/04\n",
    "](https://drive.google.com/file/d/1GNOPNc1b6YMzScnoM35x1jWTbHna7x-n/view?usp=sharing)\n",
    "\n",
    "[2017/05/18](https://drive.google.com/file/d/1clzfsulHnVLl-dVkdP13IMdWFafjZrOb/view?usp=sharing)\n",
    "\n",
    "\n",
    "Yellow shading within the Long Island Sound is the evidence of the plume in MODIS satellite color data from [NASA](https://oceancolor.gsfc.nasa.gov/cgi/browse.pl?sen=am). Downloaded the NetCDF files for days in April and May which had enough coverage (not blocked by clouds). These days are after the peack discharge: April 16, April 18, May 04, and May 18, 2017. The red box on the plots is the location of the Inshore Surface Mooring. \n",
    "\n",
    "\n"
   ]
  },
  {
   "cell_type": "markdown",
   "metadata": {
    "colab_type": "text",
    "id": "C_vd0hGFp-Hk"
   },
   "source": [
    "# CTD at 7m on ISSM\n",
    "Check data at the ISSM Near Surface Frame CTD which is at (planned) depth of 7m. Maybe this will be able to detect the plume. I think it is unlikely because the plume is probably quite thin on the shelf. "
   ]
  },
  {
   "cell_type": "code",
   "execution_count": 0,
   "metadata": {
    "colab": {
     "autoexec": {
      "startup": false,
      "wait_interval": 0
     }
    },
    "colab_type": "code",
    "id": "GWUW5S5xqCoa"
   },
   "outputs": [],
   "source": [
    "site1 = 'CP03ISSM'                          # inshore surface mooring\n",
    "node = 'RID27'                              # Near Surface Instrument Frame\n",
    "instrument = '03-CTDBPC000'                 # CTD\n",
    "method = 'recovered_inst'                   # recovered instrument\n",
    "# method = 'telemetered'                     # telemtered data missing for time period wanted...\n",
    "\n",
    "stream = 'ctdbp_cdef_instrument_recovered'  \n",
    "\n",
    "beginDT = '2017-02-01T00:00:00.000Z'\n",
    "endDT = '2017-09-01T00:00:00.000Z'\n",
    "#this is all in deployment 5 "
   ]
  },
  {
   "cell_type": "code",
   "execution_count": 0,
   "metadata": {
    "colab": {
     "autoexec": {
      "startup": false,
      "wait_interval": 0
     }
    },
    "colab_type": "code",
    "id": "Q27MmWWquISA"
   },
   "outputs": [],
   "source": [
    "# Inshore Surface Mooring \n",
    "# DO NOT RERUN B/C ALREADY REQUESTED\n",
    "#data_request_url ='/'.join((DATA_API,site1,node,instrument,method,stream))\n",
    "#params = {\n",
    "#    'beginDT':beginDT,\n",
    "#    'endDT':endDT,   \n",
    "#}\n",
    "#r = requests.get(data_request_url, params=params, auth=(USERNAME, TOKEN))\n",
    "#data = r.json()"
   ]
  },
  {
   "cell_type": "code",
   "execution_count": 0,
   "metadata": {
    "colab": {
     "autoexec": {
      "startup": false,
      "wait_interval": 0
     },
     "base_uri": "https://localhost:8080/",
     "height": 136
    },
    "colab_type": "code",
    "executionInfo": {
     "elapsed": 281,
     "status": "ok",
     "timestamp": 1527192821589,
     "user": {
      "displayName": "Molly James",
      "photoUrl": "//lh6.googleusercontent.com/-zxGvnJYOslk/AAAAAAAAAAI/AAAAAAAAAAk/MjdTty3E624/s50-c-k-no/photo.jpg",
      "userId": "118440168816468865461"
     },
     "user_tz": 240
    },
    "id": "elqwwZBaqDZ1",
    "outputId": "4316a7aa-a306-46ee-80ed-35f30006e63d"
   },
   "outputs": [
    {
     "data": {
      "text/plain": [
       "{u'allURLs': [u'https://opendap.oceanobservatories.org/thredds/catalog/ooi/molly.james@uconn.edu/20180524T201333-CP03ISSM-RID27-03-CTDBPC000-recovered_inst-ctdbp_cdef_instrument_recovered/catalog.html',\n",
       "  u'https://opendap.oceanobservatories.org/async_results/molly.james@uconn.edu/20180524T201333-CP03ISSM-RID27-03-CTDBPC000-recovered_inst-ctdbp_cdef_instrument_recovered'],\n",
       " u'numberOfSubJobs': 30,\n",
       " u'outputURL': u'https://opendap.oceanobservatories.org/thredds/catalog/ooi/molly.james@uconn.edu/20180524T201333-CP03ISSM-RID27-03-CTDBPC000-recovered_inst-ctdbp_cdef_instrument_recovered/catalog.html',\n",
       " u'requestUUID': u'11b54a43-5606-44bb-9c8e-1b26f6248677',\n",
       " u'sizeCalculation': 315524,\n",
       " u'timeCalculation': 60}"
      ]
     },
     "execution_count": 261,
     "metadata": {
      "tags": []
     },
     "output_type": "execute_result"
    }
   ],
   "source": [
    "#data"
   ]
  },
  {
   "cell_type": "code",
   "execution_count": 0,
   "metadata": {
    "colab": {
     "autoexec": {
      "startup": false,
      "wait_interval": 0
     },
     "base_uri": "https://localhost:8080/",
     "height": 34
    },
    "colab_type": "code",
    "executionInfo": {
     "elapsed": 272,
     "status": "ok",
     "timestamp": 1527192965383,
     "user": {
      "displayName": "Molly James",
      "photoUrl": "//lh6.googleusercontent.com/-zxGvnJYOslk/AAAAAAAAAAI/AAAAAAAAAAk/MjdTty3E624/s50-c-k-no/photo.jpg",
      "userId": "118440168816468865461"
     },
     "user_tz": 240
    },
    "id": "UQXZehkvy0Wi",
    "outputId": "0052fa99-85e9-44d4-bf24-d6946e34ab8c"
   },
   "outputs": [
    {
     "data": {
      "text/plain": [
       "u'https://opendap.oceanobservatories.org/thredds/catalog/ooi/molly.james@uconn.edu/20180524T201333-CP03ISSM-RID27-03-CTDBPC000-recovered_inst-ctdbp_cdef_instrument_recovered/catalog.html'"
      ]
     },
     "execution_count": 262,
     "metadata": {
      "tags": []
     },
     "output_type": "execute_result"
    }
   ],
   "source": [
    "#data['allURLs'][0]"
   ]
  },
  {
   "cell_type": "code",
   "execution_count": 0,
   "metadata": {
    "colab": {
     "autoexec": {
      "startup": false,
      "wait_interval": 0
     },
     "base_uri": "https://localhost:8080/",
     "height": 1938
    },
    "colab_type": "code",
    "executionInfo": {
     "elapsed": 4802,
     "status": "ok",
     "timestamp": 1527256003961,
     "user": {
      "displayName": "Molly James",
      "photoUrl": "//lh6.googleusercontent.com/-zxGvnJYOslk/AAAAAAAAAAI/AAAAAAAAAAk/MjdTty3E624/s50-c-k-no/photo.jpg",
      "userId": "118440168816468865461"
     },
     "user_tz": 240
    },
    "id": "OFQ9k6tGy0Jb",
    "outputId": "2cd72c10-4647-485e-d7de-5e41f7040b63"
   },
   "outputs": [
    {
     "data": {
      "text/plain": [
       "<xarray.Dataset>\n",
       "Dimensions:                                  (time: 5245)\n",
       "Coordinates:\n",
       "    obs                                      (time) int32 0 1 2 3 4 5 6 7 8 ...\n",
       "  * time                                     (time) datetime64[ns] 2017-02-01 ...\n",
       "    pressure                                 (time) float64 ...\n",
       "    lat                                      (time) float64 ...\n",
       "    lon                                      (time) float64 ...\n",
       "Data variables:\n",
       "    deployment                               (time) int32 ...\n",
       "    id                                       (time) |S64 ...\n",
       "    conductivity                             (time) float64 ...\n",
       "    ctd_time                                 (time) datetime64[ns] ...\n",
       "    driver_timestamp                         (time) datetime64[ns] ...\n",
       "    ingestion_timestamp                      (time) datetime64[ns] ...\n",
       "    internal_timestamp                       (time) datetime64[ns] ...\n",
       "    port_timestamp                           (time) datetime64[ns] ...\n",
       "    preferred_timestamp                      (time) object ...\n",
       "    pressure_temp                            (time) float64 ...\n",
       "    provenance                               (time) |S64 ...\n",
       "    temperature                              (time) float64 ...\n",
       "    ctdbp_seawater_temperature               (time) float64 ...\n",
       "    ctdbp_seawater_pressure                  (time) float64 ...\n",
       "    ctdbp_seawater_conductivity              (time) float64 ...\n",
       "    practical_salinity                       (time) float64 ...\n",
       "    density                                  (time) float64 ...\n",
       "    conductivity_qc_executed                 (time) float32 ...\n",
       "    conductivity_qc_results                  (time) float32 ...\n",
       "    pressure_qc_executed                     (time) float32 ...\n",
       "    pressure_qc_results                      (time) float32 ...\n",
       "    ctdbp_seawater_temperature_qc_executed   (time) float32 ...\n",
       "    ctdbp_seawater_temperature_qc_results    (time) float32 ...\n",
       "    ctdbp_seawater_pressure_qc_executed      (time) float32 ...\n",
       "    ctdbp_seawater_pressure_qc_results       (time) float32 ...\n",
       "    ctdbp_seawater_conductivity_qc_executed  (time) float32 ...\n",
       "    ctdbp_seawater_conductivity_qc_results   (time) float32 ...\n",
       "    density_qc_executed                      (time) float32 ...\n",
       "    density_qc_results                       (time) float32 ...\n",
       "    practical_salinity_qc_executed           (time) float32 ...\n",
       "    practical_salinity_qc_results            (time) float32 ...\n",
       "Attributes:\n",
       "    _NCProperties:                      version=1|netcdflibversion=4.4.1.1|hd...\n",
       "    node:                               RID27\n",
       "    comment:                            \n",
       "    publisher_email:                    \n",
       "    sourceUrl:                          http://oceanobservatories.org/\n",
       "    collection_method:                  recovered_inst\n",
       "    stream:                             ctdbp_cdef_instrument_recovered\n",
       "    featureType:                        point\n",
       "    creator_email:                      \n",
       "    publisher_name:                     Ocean Observatories Initiative\n",
       "    date_modified:                      2018-05-24T20:16:14.918634\n",
       "    keywords:                           \n",
       "    cdm_data_type:                      Point\n",
       "    references:                         More information can be found at http...\n",
       "    Metadata_Conventions:               Unidata Dataset Discovery v1.0\n",
       "    date_created:                       2018-05-24T20:16:14.918632\n",
       "    id:                                 CP03ISSM-RID27-03-CTDBPC000-recovered...\n",
       "    requestUUID:                        d9cc8ad2-f860-4f71-b5d5-bad26a9ea004\n",
       "    contributor_role:                   \n",
       "    summary:                            Dataset Generated by Stream Engine fr...\n",
       "    keywords_vocabulary:                \n",
       "    institution:                        Ocean Observatories Initiative\n",
       "    naming_authority:                   org.oceanobservatories\n",
       "    feature_Type:                       point\n",
       "    infoUrl:                            http://oceanobservatories.org/\n",
       "    license:                            \n",
       "    contributor_name:                   \n",
       "    uuid:                               d9cc8ad2-f860-4f71-b5d5-bad26a9ea004\n",
       "    creator_name:                       Ocean Observatories Initiative\n",
       "    title:                              Data produced by Stream Engine versio...\n",
       "    sensor:                             03-CTDBPC000\n",
       "    standard_name_vocabulary:           NetCDF Climate and Forecast (CF) Meta...\n",
       "    acknowledgement:                    \n",
       "    Conventions:                        CF-1.6\n",
       "    project:                            Ocean Observatories Initiative\n",
       "    source:                             CP03ISSM-RID27-03-CTDBPC000-recovered...\n",
       "    publisher_url:                      http://oceanobservatories.org/\n",
       "    creator_url:                        http://oceanobservatories.org/\n",
       "    nodc_template_version:              NODC_NetCDF_TimeSeries_Orthogonal_Tem...\n",
       "    subsite:                            CP03ISSM\n",
       "    processing_level:                   L2\n",
       "    history:                            2018-05-24T20:16:14.918600 generated ...\n",
       "    Manufacturer:                       Sea-Bird Electronics\n",
       "    ModelNumber:                        SBE 16plus V2\n",
       "    SerialNumber:                       16-50109\n",
       "    Description:                        CTD Pumped: CTDBP Series C\n",
       "    FirmwareVersion:                    Not specified.\n",
       "    SoftwareVersion:                    Not specified.\n",
       "    AssetUniqueID:                      CGINS-CTDBPC-50109\n",
       "    Notes:                              Not specified.\n",
       "    Owner:                              Not specified.\n",
       "    RemoteResources:                    []\n",
       "    ShelfLifeExpirationDate:            Not specified.\n",
       "    Mobile:                             False\n",
       "    AssetManagementRecordLastModified:  2018-05-21T12:22:43.774000\n",
       "    time_coverage_start:                2017-02-01T00:00:00\n",
       "    time_coverage_end:                  2017-04-01T03:33:02\n",
       "    time_coverage_resolution:           P974.33S\n",
       "    geospatial_lat_min:                 40.36192\n",
       "    geospatial_lat_max:                 40.36192\n",
       "    geospatial_lat_units:               degrees_north\n",
       "    geospatial_lat_resolution:          0.1\n",
       "    geospatial_lon_min:                 -70.87827\n",
       "    geospatial_lon_max:                 -70.87827\n",
       "    geospatial_lon_units:               degrees_east\n",
       "    geospatial_lon_resolution:          0.1\n",
       "    geospatial_vertical_units:          meters\n",
       "    geospatial_vertical_resolution:     0.1\n",
       "    geospatial_vertical_positive:       down\n",
       "    DODS.strlen:                        36\n",
       "    DODS.dimName:                       string36\n",
       "    DODS_EXTRA.Unlimited_Dimension:     obs"
      ]
     },
     "execution_count": 58,
     "metadata": {
      "tags": []
     },
     "output_type": "execute_result"
    }
   ],
   "source": [
    "url = 'https://opendap.oceanobservatories.org/thredds/catalog/ooi/molly.james@uconn.edu/20180524T201333-CP03ISSM-RID27-03-CTDBPC000-recovered_inst-ctdbp_cdef_instrument_recovered/catalog.html'\n",
    "tds_url = 'https://opendap.oceanobservatories.org/thredds/dodsC'\n",
    "datasets = requests.get(url).text\n",
    "urls = re.findall(r'href=[\\'\"]?([^\\'\" >]+)', datasets)\n",
    "x = re.findall(r'(ooi/.*?.nc)', datasets)\n",
    "for i in x:\n",
    "    if i.endswith('.nc') == False:\n",
    "        x.remove(i)\n",
    "for i in x:\n",
    "    try:\n",
    "        float(i[-4])\n",
    "    except:\n",
    "        x.remove(i)\n",
    "datasets4 = [os.path.join(tds_url, i) for i in x]\n",
    "\n",
    "ds_issm_ctd = xr.open_mfdataset(datasets4)\n",
    "ds_issm_ctd = ds_issm_ctd.swap_dims({'obs': 'time'})\n",
    "ds_issm_ctd\n"
   ]
  },
  {
   "cell_type": "code",
   "execution_count": 0,
   "metadata": {
    "colab": {
     "autoexec": {
      "startup": false,
      "wait_interval": 0
     },
     "base_uri": "https://localhost:8080/",
     "height": 376
    },
    "colab_type": "code",
    "executionInfo": {
     "elapsed": 491,
     "status": "ok",
     "timestamp": 1527256531695,
     "user": {
      "displayName": "Molly James",
      "photoUrl": "//lh6.googleusercontent.com/-zxGvnJYOslk/AAAAAAAAAAI/AAAAAAAAAAk/MjdTty3E624/s50-c-k-no/photo.jpg",
      "userId": "118440168816468865461"
     },
     "user_tz": 240
    },
    "id": "ZrI1CnT6yz8v",
    "outputId": "23e506e4-32b4-4970-957b-101fbff15a9f"
   },
   "outputs": [
    {
     "data": {
      "image/png": "[encoded data removed]",
      "text/plain": [
       "<matplotlib.figure.Figure at 0x7fe1300dc5d0>"
      ]
     },
     "metadata": {
      "tags": []
     },
     "output_type": "display_data"
    }
   ],
   "source": [
    "## plotting\n",
    "\n",
    "plt.plot(ds_issm_ctd['time'],ds_issm_ctd['practical_salinity'],'r.',label='practical salinity')\n",
    "plt.plot(ds_issm_ctd['time'],ds_issm_ctd['practical_salinity_qc_executed'],'b.',label='QC executed')\n",
    "plt.plot(ds_issm_ctd['time'],ds_issm_ctd['practical_salinity_qc_results'],'.',label='QC results')\n",
    "\n",
    "plt.title('CP03ISSM, 7m CTD, recovered')\n",
    "plt.ylabel('Salinity')\n",
    "plt.xlabel('Time')\n",
    "plt.legend()\n",
    "\n",
    "plt.xlim(['2017-03-01T00:00:00.000Z','2017-06-01T00:00:00.000Z'])\n",
    "\n",
    "plt.show()\n",
    "#practical_salinity\n",
    "#practical_salinity_qc_executed\n",
    "#practical_salinity_qc_results"
   ]
  },
  {
   "cell_type": "markdown",
   "metadata": {
    "colab_type": "text",
    "id": "CXtzEGWC0z5u"
   },
   "source": [
    "The data from the CTD on the Near Surface Instrument Frame is missing for the time period of interest, April and May 2017.  Wasn't able to see if there was a freshwater signal below the surface."
   ]
  },
  {
   "cell_type": "code",
   "execution_count": 0,
   "metadata": {
    "colab": {
     "autoexec": {
      "startup": false,
      "wait_interval": 0
     }
    },
    "colab_type": "code",
    "id": "gIICET0QyztH"
   },
   "outputs": [],
   "source": []
  },
  {
   "cell_type": "markdown",
   "metadata": {
    "colab_type": "text",
    "id": "9RzkezCUnIi9"
   },
   "source": [
    "# Cruise Data from Deployments\n",
    "Perhaps look at the CTD casts during the cruises for deployments 5, 6, and 7 at the times closest to April and May 2017. \n",
    "\n",
    "* [CTD cast from Offshore, Cruise 8 Leg 1, 2017-06-01](https://alfresco.oceanobservatories.org/alfresco/d/d/workspace/SpacesStore/1ed1b498-7f06-4495-86b6-8098ebd8acef/3204-00802_Quick_Look_Cruise_Report_Coastal_Pioneer_8_Leg_1_2017-06-03_Ver_1-00.pdf)\n",
    "* No data available for [Pioneer-07b_SI_2017-04-18](https://alfresco.oceanobservatories.org/alfresco/faces/jsp/browse/browse.jsp)"
   ]
  },
  {
   "cell_type": "code",
   "execution_count": 0,
   "metadata": {
    "colab": {
     "autoexec": {
      "startup": false,
      "wait_interval": 0
     }
    },
    "colab_type": "code",
    "id": "7vQOSxMH9Z_q"
   },
   "outputs": [],
   "source": [
    "import pandas as pd\n"
   ]
  },
  {
   "cell_type": "code",
   "execution_count": 0,
   "metadata": {
    "colab": {
     "autoexec": {
      "startup": false,
      "wait_interval": 0
     }
    },
    "colab_type": "code",
    "id": "H_fi-OC_4pyL"
   },
   "outputs": [],
   "source": [
    "# First, specify the data file for the cruise CTD cast\n",
    "# Down and Up Casts\n",
    "cruise_data_file = 'https://alfresco.oceanobservatories.org/alfresco/d/d/workspace/SpacesStore/976c0631-48c8-4add-9d04-c95a066f56c4/ar18a009.asc'\n",
    "\n",
    "# Read in the data file without headers due to a bug in the file (two of the header names run together)\n",
    "cruise_data = pd.read_table(cruise_data_file, delim_whitespace=True, header=None, skiprows=1)\n",
    "\n",
    "# Add back the necessary headers\n",
    "cruise_data = cruise_data.rename(columns={0:'Pressure', 1:'Temperature', 13:'Salinity'})\n",
    "cruist_data.head"
   ]
  },
  {
   "cell_type": "code",
   "execution_count": 0,
   "metadata": {
    "colab": {
     "autoexec": {
      "startup": false,
      "wait_interval": 0
     },
     "base_uri": "https://localhost:8080/",
     "height": 376
    },
    "colab_type": "code",
    "executionInfo": {
     "elapsed": 494,
     "status": "ok",
     "timestamp": 1527196259945,
     "user": {
      "displayName": "Molly James",
      "photoUrl": "//lh6.googleusercontent.com/-zxGvnJYOslk/AAAAAAAAAAI/AAAAAAAAAAk/MjdTty3E624/s50-c-k-no/photo.jpg",
      "userId": "118440168816468865461"
     },
     "user_tz": 240
    },
    "id": "Miw_KAhw4psA",
    "outputId": "2c88e8f9-aa23-4c3b-c853-16b1c0d7a1e3"
   },
   "outputs": [
    {
     "data": {
      "image/png": "[encoded data removed]",
      "text/plain": [
       "<matplotlib.figure.Figure at 0x7f662f43b510>"
      ]
     },
     "metadata": {
      "tags": []
     },
     "output_type": "display_data"
    }
   ],
   "source": [
    "plt.gca().invert_yaxis()\n",
    "\n",
    "plt.plot(cruise_data.Salinity,cruise_data.Pressure,'.')\n",
    "\n",
    "plt.title('Ship Board CTD at Offshore Site on 06/01/2017')\n",
    "plt.ylabel('Depth (m)')\n",
    "plt.xlabel('Salinity (psu)')\n",
    "\n",
    "plt.show()\n"
   ]
  },
  {
   "cell_type": "code",
   "execution_count": 0,
   "metadata": {
    "colab": {
     "autoexec": {
      "startup": false,
      "wait_interval": 0
     }
    },
    "colab_type": "code",
    "id": "7cR9nhWB4piK"
   },
   "outputs": [],
   "source": []
  },
  {
   "cell_type": "markdown",
   "metadata": {
    "colab_type": "text",
    "id": "_FN9LecjqEyL"
   },
   "source": [
    "# Summary\n",
    "* salinity from 3 surface buoys METBK instruments\n",
    "* data not available at inshore mooring for near surface CTD, 7m\n",
    "* timing of peak discharge from with USGS river portal for CT River\n",
    "* tracked plume with NASA MODIS ocean color\n",
    "* shipboard CTD profile measurements for April/May not available at the moment\n"
   ]
  },
  {
   "cell_type": "markdown",
   "metadata": {
    "colab_type": "text",
    "id": "-CIkmz2EqJzL"
   },
   "source": [
    "# Conclusions\n",
    "\n",
    "* According to the buoy measurements, the Connecticut River plume for 2017 was detected by at the Inshore site, but not the Central nor Offshore sites. \n",
    "* Not sure what the OOI quality control measures are, some strange scatter in the graphs from the qc_results parameters\n",
    "* Once shipboard data is available for April/May 2017 should look at it\n",
    "* Once near surface CTD is available at inshore site should look at it\n",
    "* Probable biofouling on the instruments, can see deployment switch in data\n",
    "* Should perhaps look at the surface temperature data to see a signal as well\n",
    "* More to look at!"
   ]
  },
  {
   "cell_type": "markdown",
   "metadata": {
    "colab_type": "text",
    "id": "HKsCDCDVoJex"
   },
   "source": []
  }
 ],
 "metadata": {
  "colab": {
   "collapsed_sections": [],
   "default_view": {},
   "name": "Molly_datareport.ipynb",
   "provenance": [],
   "version": "0.3.2",
   "views": {}
  },
  "kernelspec": {
   "display_name": "Python 3",
   "language": "python",
   "name": "python3"
  },
  "language_info": {
   "codemirror_mode": {
    "name": "ipython",
    "version": 3
   },
   "file_extension": ".py",
   "mimetype": "text/x-python",
   "name": "python",
   "nbconvert_exporter": "python",
   "pygments_lexer": "ipython3",
   "version": "3.6.5"
  }
 },
 "nbformat": 4,
 "nbformat_minor": 1
}
