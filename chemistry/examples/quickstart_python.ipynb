{
  "nbformat": 4,
  "nbformat_minor": 0,
  "metadata": {
    "colab": {
      "name": "quickstart_python.ipynb",
      "version": "0.3.2",
      "provenance": []
    },
    "kernelspec": {
      "name": "python3",
      "display_name": "Python 3"
    }
  },
  "cells": [
    {
      "metadata": {
        "id": "U8nMYgjJtslt",
        "colab_type": "text"
      },
      "cell_type": "markdown",
      "source": [
        "# Python Quickstart for OOI Data\n",
        "Written by Sage, 8/17/18\n",
        "\n",
        "The OOI Data Portal provides quick and easy access to most of the datasets collected by the OOI program.  In this tutorial, we will  demonstrate how to programmatically make a request for an OOI dataset and then load and plot the results, all using Python.\n",
        "\n",
        "First we'll load some required python libraries."
      ]
    },
    {
      "metadata": {
        "id": "4uCafH_36sr8",
        "colab_type": "code",
        "colab": {
          "base_uri": "https://localhost:8080/",
          "height": 197
        },
        "outputId": "d4d87baa-e4ee-443d-efde-7ecc69e07e64"
      },
      "cell_type": "code",
      "source": [
        "import requests\n",
        "import os\n",
        "import re\n",
        "\n",
        "!pip install netcdf4 \n",
        "!pip install dask\n",
        "!pip install xarray\n",
        "import xarray as xr\n",
        "\n",
        "import matplotlib.pyplot as plt"
      ],
      "execution_count": 62,
      "outputs": [
        {
          "output_type": "stream",
          "text": [
            "Requirement already satisfied: netcdf4 in /usr/local/lib/python3.6/dist-packages (1.4.1)\r\n",
            "Requirement already satisfied: cftime in /usr/local/lib/python3.6/dist-packages (from netcdf4) (1.0.1)\r\n",
            "Requirement already satisfied: numpy>=1.7 in /usr/local/lib/python3.6/dist-packages (from netcdf4) (1.14.5)\n",
            "Requirement already satisfied: dask in /usr/local/lib/python3.6/dist-packages (0.18.2)\n",
            "Requirement already satisfied: xarray in /usr/local/lib/python3.6/dist-packages (0.10.8)\n",
            "Requirement already satisfied: pandas>=0.19.2 in /usr/local/lib/python3.6/dist-packages (from xarray) (0.22.0)\n",
            "Requirement already satisfied: numpy>=1.12 in /usr/local/lib/python3.6/dist-packages (from xarray) (1.14.5)\n",
            "Requirement already satisfied: python-dateutil>=2 in /usr/local/lib/python3.6/dist-packages (from pandas>=0.19.2->xarray) (2.5.3)\n",
            "Requirement already satisfied: pytz>=2011k in /usr/local/lib/python3.6/dist-packages (from pandas>=0.19.2->xarray) (2018.5)\n",
            "Requirement already satisfied: six>=1.5 in /usr/local/lib/python3.6/dist-packages (from python-dateutil>=2->pandas>=0.19.2->xarray) (1.11.0)\n"
          ],
          "name": "stdout"
        }
      ]
    },
    {
      "metadata": {
        "id": "dZA0uaKxtxX6",
        "colab_type": "text"
      },
      "cell_type": "markdown",
      "source": [
        "\n",
        "## Step 1 - Requesting OOI Data\n",
        "While you can use the OOI Data Portal to request data, sometimes it is easier to use the [OOI M2M Interface](https://oceanobservatories.org/ooi-m2m-interface/) (aka the OOI API) to request data from specific instruments, especially when you want to script your data processing routine.  In addition, it's also useful when the number of datasets is more than the few it would be okay to do by hand.\n",
        "\n",
        "In order to use the OOI API, you will first need to create an account on the [OOI Data Portal](https://ooinet.oceanobservatories.org).  Once you have done that, you will need to grab your API username and token, which can be found on your profile page.  We will add them as variables to make it easy to refer to later."
      ]
    },
    {
      "metadata": {
        "id": "RYwH2LTYuA4l",
        "colab_type": "code",
        "colab": {}
      },
      "cell_type": "code",
      "source": [
        "API_USERNAME = 'YOUR USERNAME'\n",
        "API_TOKEN = 'YOUR TOKEN'"
      ],
      "execution_count": 0,
      "outputs": []
    },
    {
      "metadata": {
        "id": "964HihvTuDNn",
        "colab_type": "text"
      },
      "cell_type": "markdown",
      "source": [
        "Making asynchronous requests through the API is essentially the same as requesting a download from the OOI Data Portal, but with the API you can easily create one or more requests in an automated way.\n",
        "\n",
        "To make a data request, we basically construct a URL using the reference designator, delivery method, stream name and other parameters. You can find this information in catalog on the Data Portal.\n",
        "\n",
        "The URL is constructed using the following format:\n",
        "\n",
        "`/sensor/inv/{subsite}/{node}/{sensor}/{method}/{stream}`\n",
        "\n",
        "In order to make the code clear, we're going to setup several variables and concatenate all of the variables together with slashes."
      ]
    },
    {
      "metadata": {
        "id": "rx7tr90-uFxd",
        "colab_type": "code",
        "colab": {}
      },
      "cell_type": "code",
      "source": [
        "# Instrument Information\n",
        "site = 'CP04OSSM'\n",
        "node = 'SBD11'\n",
        "instrument = '06-METBKA000'\n",
        "method = 'telemetered'\n",
        "stream = 'metbk_a_dcl_instrument'\n",
        "\n",
        "api_base_url = 'https://ooinet.oceanobservatories.org/api/m2m/12576/sensor/inv'\n",
        "\n",
        "# Create the request URL\n",
        "data_request_url ='/'.join((api_base_url,site,node,instrument,method,stream))"
      ],
      "execution_count": 0,
      "outputs": []
    },
    {
      "metadata": {
        "id": "T3YskIJ-uNCx",
        "colab_type": "text"
      },
      "cell_type": "markdown",
      "source": [
        "Finally, we also need to specify a start (beginDT) and ending date/time (endDT) for our request. By default, asynchronous requests will return NetCDF files, but you could also specify csv or json, using the format option. Optionally, you can also specify include_provenance and include_annotations, which will include separate text files in the output directory with that information.\n",
        "\n",
        "We will define all of these options in a dictionary object called params."
      ]
    },
    {
      "metadata": {
        "id": "o1o-e45kwAMf",
        "colab_type": "code",
        "colab": {}
      },
      "cell_type": "code",
      "source": [
        "# All of the following are optional, but you should specify a date range\n",
        "params = {\n",
        "  'beginDT':'2016-01-01T00:00:00.000Z',\n",
        "  'endDT':'2017-01-01T00:00:00.000Z',\n",
        "  'format':'application/netcdf',\n",
        "  'include_provenance':'true',\n",
        "  'include_annotations':'true'\n",
        "}"
      ],
      "execution_count": 0,
      "outputs": []
    },
    {
      "metadata": {
        "id": "mA_QpOnywl09",
        "colab_type": "text"
      },
      "cell_type": "markdown",
      "source": [
        "Now let's send the request. (Note, you only need to send the request once to generate the data files.  After which, we recommend commenting out the request lines to prevent accidental resubmission when running through the script again.)"
      ]
    },
    {
      "metadata": {
        "id": "ItLzeW1AxDjE",
        "colab_type": "code",
        "colab": {
          "base_uri": "https://localhost:8080/",
          "height": 168
        },
        "outputId": "0fd28934-29e6-4158-9158-b134e35ca89d"
      },
      "cell_type": "code",
      "source": [
        "# r = requests.get(data_request_url, params=params, auth=(API_USERNAME, API_TOKEN))\n",
        "# data = r.json()\n",
        "# data"
      ],
      "execution_count": 41,
      "outputs": [
        {
          "output_type": "execute_result",
          "data": {
            "text/plain": [
              "{'allURLs': ['https://opendap.oceanobservatories.org/thredds/catalog/ooi/sage@marine.rutgers.edu/20180817T170126-CP04OSSM-SBD11-06-METBKA000-telemetered-metbk_a_dcl_instrument/catalog.html',\n",
              "  'https://opendap.oceanobservatories.org/async_results/sage@marine.rutgers.edu/20180817T170126-CP04OSSM-SBD11-06-METBKA000-telemetered-metbk_a_dcl_instrument'],\n",
              " 'numberOfSubJobs': 14,\n",
              " 'outputURL': 'https://opendap.oceanobservatories.org/thredds/catalog/ooi/sage@marine.rutgers.edu/20180817T170126-CP04OSSM-SBD11-06-METBKA000-telemetered-metbk_a_dcl_instrument/catalog.html',\n",
              " 'requestUUID': '874a1b40-1dfc-4664-8772-aa6b4e0a7989',\n",
              " 'sizeCalculation': 60326684,\n",
              " 'timeCalculation': 60}"
            ]
          },
          "metadata": {
            "tags": []
          },
          "execution_count": 41
        }
      ]
    },
    {
      "metadata": {
        "id": "5p4T8eeHuRNn",
        "colab_type": "text"
      },
      "cell_type": "markdown",
      "source": [
        "### Which data URL should I use?\n",
        "The first URL in the allURLs key points to the THREDDS server, which allows for programmatic data access without downloading the entire file."
      ]
    },
    {
      "metadata": {
        "id": "NnYbplQsxkU5",
        "colab_type": "code",
        "colab": {
          "base_uri": "https://localhost:8080/",
          "height": 60
        },
        "outputId": "05c63c28-dd48-457c-8c4a-5bbd7bce12b5"
      },
      "cell_type": "code",
      "source": [
        "print(data['allURLs'][0])"
      ],
      "execution_count": 42,
      "outputs": [
        {
          "output_type": "stream",
          "text": [
            "https://opendap.oceanobservatories.org/thredds/catalog/ooi/sage@marine.rutgers.edu/20180817T170126-CP04OSSM-SBD11-06-METBKA000-telemetered-metbk_a_dcl_instrument/catalog.html\n"
          ],
          "name": "stdout"
        }
      ]
    },
    {
      "metadata": {
        "id": "ESkvwh7KxjOZ",
        "colab_type": "text"
      },
      "cell_type": "markdown",
      "source": [
        "The second URL in the allURLs key provides a direct link to a web server which you can use to quickly download files if you don't want to go through THREDDS."
      ]
    },
    {
      "metadata": {
        "id": "5QUJSx-lxtJ1",
        "colab_type": "code",
        "colab": {
          "base_uri": "https://localhost:8080/",
          "height": 60
        },
        "outputId": "fc0566de-bcce-4441-da3d-dfe58c2cb064"
      },
      "cell_type": "code",
      "source": [
        "print(data['allURLs'][1])"
      ],
      "execution_count": 43,
      "outputs": [
        {
          "output_type": "stream",
          "text": [
            "https://opendap.oceanobservatories.org/async_results/sage@marine.rutgers.edu/20180817T170126-CP04OSSM-SBD11-06-METBKA000-telemetered-metbk_a_dcl_instrument\n"
          ],
          "name": "stdout"
        }
      ]
    },
    {
      "metadata": {
        "id": "1u_wN7PluUO9",
        "colab_type": "text"
      },
      "cell_type": "markdown",
      "source": [
        "## Step 2 - Loading in NetCDF Files\n",
        "Once the dataset is ready on the server, we can start using it. For this example, it turns out that there are 3 different deployments spanning 2016, and each deployment has its own file.  In order to load in all of the data, we will need to concatenate the data from all of the files.  \n",
        "\n",
        "The easiest way to do this in Python is to create a list of all of the netcdf files we want to load, and then pass that to `xarray.open_mfdataset()`"
      ]
    },
    {
      "metadata": {
        "id": "LkU_yY25yvJb",
        "colab_type": "text"
      },
      "cell_type": "markdown",
      "source": [
        "First, we will manually specify the THREDDS url we received earlier, so we can rerun this code again later without haveing to re-request the data."
      ]
    },
    {
      "metadata": {
        "id": "9zt0HDgdy204",
        "colab_type": "code",
        "colab": {}
      },
      "cell_type": "code",
      "source": [
        "url = 'https://opendap.oceanobservatories.org/thredds/catalog/ooi/sage@marine.rutgers.edu/20180817T170126-CP04OSSM-SBD11-06-METBKA000-telemetered-metbk_a_dcl_instrument/catalog.html'"
      ],
      "execution_count": 0,
      "outputs": []
    },
    {
      "metadata": {
        "id": "Tkhm0T3ey4Dd",
        "colab_type": "text"
      },
      "cell_type": "markdown",
      "source": [
        "Next, we can use the following code to automatically find all of the available .nc files in the directory."
      ]
    },
    {
      "metadata": {
        "id": "gioFTBcxy_QM",
        "colab_type": "code",
        "colab": {
          "base_uri": "https://localhost:8080/",
          "height": 150
        },
        "outputId": "7d7f8cc8-65b4-4f0c-b711-e44059a676c9"
      },
      "cell_type": "code",
      "source": [
        "tds_url = 'https://opendap.oceanobservatories.org/thredds/dodsC'\n",
        "datasets = requests.get(url).text\n",
        "urls = re.findall(r'href=[\\'\"]?([^\\'\" >]+)', datasets)\n",
        "x = re.findall(r'(ooi/.*?.nc)', datasets)\n",
        "for i in x:\n",
        "    if i.endswith('.nc') == False:\n",
        "        x.remove(i)\n",
        "for i in x:\n",
        "    try:\n",
        "        float(i[-4])\n",
        "    except:\n",
        "        x.remove(i)\n",
        "datasets = [os.path.join(tds_url, i) for i in x]\n",
        "datasets"
      ],
      "execution_count": 55,
      "outputs": [
        {
          "output_type": "execute_result",
          "data": {
            "text/plain": [
              "['https://opendap.oceanobservatories.org/thredds/dodsC/ooi/sage@marine.rutgers.edu/20180817T170126-CP04OSSM-SBD11-06-METBKA000-telemetered-metbk_a_dcl_instrument/deployment0005_CP04OSSM-SBD11-06-METBKA000-telemetered-metbk_a_dcl_instrument_20161012T142641.906000-20161231T235909.571000.nc',\n",
              " 'https://opendap.oceanobservatories.org/thredds/dodsC/ooi/sage@marine.rutgers.edu/20180817T170126-CP04OSSM-SBD11-06-METBKA000-telemetered-metbk_a_dcl_instrument/deployment0005_CP04OSSM-RID26-04-VELPTA000-telemetered-velpt_ab_dcl_instrument_20161012T143008-20161231T234517.nc',\n",
              " 'https://opendap.oceanobservatories.org/thredds/dodsC/ooi/sage@marine.rutgers.edu/20180817T170126-CP04OSSM-SBD11-06-METBKA000-telemetered-metbk_a_dcl_instrument/deployment0004_CP04OSSM-SBD11-06-METBKA000-telemetered-metbk_a_dcl_instrument_20160527T155046.777000-20161012T150931.977000.nc',\n",
              " 'https://opendap.oceanobservatories.org/thredds/dodsC/ooi/sage@marine.rutgers.edu/20180817T170126-CP04OSSM-SBD11-06-METBKA000-telemetered-metbk_a_dcl_instrument/deployment0004_CP04OSSM-RID26-04-VELPTA000-telemetered-velpt_ab_dcl_instrument_20160527T160023-20161012T090027.nc',\n",
              " 'https://opendap.oceanobservatories.org/thredds/dodsC/ooi/sage@marine.rutgers.edu/20180817T170126-CP04OSSM-SBD11-06-METBKA000-telemetered-metbk_a_dcl_instrument/deployment0003_CP04OSSM-SBD11-06-METBKA000-telemetered-metbk_a_dcl_instrument_20160101T000102.577000-20160513T150947.552000.nc',\n",
              " 'https://opendap.oceanobservatories.org/thredds/dodsC/ooi/sage@marine.rutgers.edu/20180817T170126-CP04OSSM-SBD11-06-METBKA000-telemetered-metbk_a_dcl_instrument/deployment0003_CP04OSSM-RID26-04-VELPTA000-telemetered-velpt_ab_dcl_instrument_20160222T153013-20160329T120515.nc']"
            ]
          },
          "metadata": {
            "tags": []
          },
          "execution_count": 55
        }
      ]
    },
    {
      "metadata": {
        "id": "XBWkWsVPuXZd",
        "colab_type": "text"
      },
      "cell_type": "markdown",
      "source": [
        "When requesting data from some instruments, you will actually get data files from multiple instruments, when they are needed to calculate derived parameters. If this happens, you will need to modify the code above or tweak the resultant list to make sure you only include .nc files from the instrument you are interested in.  In this case, we received both METBK files and VELPT files.  So, let's go through the datasets array and remove the VELPT files which we do not need."
      ]
    },
    {
      "metadata": {
        "id": "LNEeqwvj1wvu",
        "colab_type": "code",
        "colab": {
          "base_uri": "https://localhost:8080/",
          "height": 96
        },
        "outputId": "370b8d0a-5ef0-4c34-d52d-c0f117329825"
      },
      "cell_type": "code",
      "source": [
        "selected_datasets = []\n",
        "for d in datasets:\n",
        "    if 'VELPT' in d:\n",
        "        pass\n",
        "    else:\n",
        "        selected_datasets.append(d)\n",
        "selected_datasets"
      ],
      "execution_count": 56,
      "outputs": [
        {
          "output_type": "execute_result",
          "data": {
            "text/plain": [
              "['https://opendap.oceanobservatories.org/thredds/dodsC/ooi/sage@marine.rutgers.edu/20180817T170126-CP04OSSM-SBD11-06-METBKA000-telemetered-metbk_a_dcl_instrument/deployment0005_CP04OSSM-SBD11-06-METBKA000-telemetered-metbk_a_dcl_instrument_20161012T142641.906000-20161231T235909.571000.nc',\n",
              " 'https://opendap.oceanobservatories.org/thredds/dodsC/ooi/sage@marine.rutgers.edu/20180817T170126-CP04OSSM-SBD11-06-METBKA000-telemetered-metbk_a_dcl_instrument/deployment0004_CP04OSSM-SBD11-06-METBKA000-telemetered-metbk_a_dcl_instrument_20160527T155046.777000-20161012T150931.977000.nc',\n",
              " 'https://opendap.oceanobservatories.org/thredds/dodsC/ooi/sage@marine.rutgers.edu/20180817T170126-CP04OSSM-SBD11-06-METBKA000-telemetered-metbk_a_dcl_instrument/deployment0003_CP04OSSM-SBD11-06-METBKA000-telemetered-metbk_a_dcl_instrument_20160101T000102.577000-20160513T150947.552000.nc']"
            ]
          },
          "metadata": {
            "tags": []
          },
          "execution_count": 56
        }
      ]
    },
    {
      "metadata": {
        "id": "Xj13FfS21w3n",
        "colab_type": "text"
      },
      "cell_type": "markdown",
      "source": [
        "Now we can use `xr.open_mfdataset()` to load all files into a single xarray dataset."
      ]
    },
    {
      "metadata": {
        "id": "VAOkkZJKzVif",
        "colab_type": "code",
        "colab": {
          "base_uri": "https://localhost:8080/",
          "height": 2771
        },
        "outputId": "a0f2f44d-2838-4238-88f1-bfe24044477a"
      },
      "cell_type": "code",
      "source": [
        "ds = xr.open_mfdataset(selected_datasets)\n",
        "ds = ds.swap_dims({'obs': 'time'}) # Swap the primary dimension\n",
        "ds = ds.chunk({'time': 100}) # Used for optimization\n",
        "ds = ds.sortby('time') # Data from different deployments can overlap so we want to sort all data by time stamp.\n",
        "ds"
      ],
      "execution_count": 58,
      "outputs": [
        {
          "output_type": "execute_result",
          "data": {
            "text/plain": [
              "<xarray.Dataset>\n",
              "Dimensions:                               (time: 504070)\n",
              "Coordinates:\n",
              "    obs                                   (time) int64 0 1 2 3 4 5 6 7 8 9 ...\n",
              "  * time                                  (time) datetime64[ns] 2016-01-01T00:01:02.576999424 ...\n",
              "    lat                                   (time) float64 39.94 39.94 39.94 ...\n",
              "    lon                                   (time) float64 -70.89 -70.89 ...\n",
              "Data variables:\n",
              "    deployment                            (time) int32 3 3 3 3 3 3 3 3 3 3 3 ...\n",
              "    id                                    (time) |S64 b'1f2b2168-867b-404a-9e40-856191f944f7' ...\n",
              "    air_temperature                       (time) float32 10.297 10.244 ...\n",
              "    barometric_pressure                   (time) float32 1016.74 1016.67 ...\n",
              "    dcl_controller_timestamp              (time) object b'empty' b'empty' ...\n",
              "    driver_timestamp                      (time) datetime64[ns] 2017-10-25T07:12:04.706921984 ...\n",
              "    eastward_wind_velocity                (time) float32 5.75 4.2 6.17 4.91 ...\n",
              "    ingestion_timestamp                   (time) datetime64[ns] 2017-10-25T07:12:08.946999808 ...\n",
              "    internal_timestamp                    (time) datetime64[ns] 1900-01-01 ...\n",
              "    longwave_irradiance                   (time) float32 346.4 346.6 346.8 ...\n",
              "    northward_wind_velocity               (time) float32 -7.43 -7.43 -8.76 ...\n",
              "    port_timestamp                        (time) datetime64[ns] 2016-01-01T00:01:02.576999424 ...\n",
              "    precipitation                         (time) float32 38.27 38.3 38.31 ...\n",
              "    preferred_timestamp                   (time) object b'port_timestamp' ...\n",
              "    provenance                            (time) |S64 b'da7465e1-ca12-430b-a2c9-cfa0b5a2718b' ...\n",
              "    relative_humidity                     (time) float32 72.982 70.978 ...\n",
              "    sea_surface_conductivity              (time) float32 4.1837 4.1845 ...\n",
              "    sea_surface_temperature               (time) float32 14.451 14.458 ...\n",
              "    shortwave_irradiance                  (time) float32 -3.5 -3.5 -3.4 -3.6 ...\n",
              "    met_barpres                           (time) float32 101674.0 101667.0 ...\n",
              "    met_windavg_mag_corr_east             (time) float64 7.401 5.899 8.135 ...\n",
              "    met_windavg_mag_corr_north            (time) float64 -5.787 -6.169 ...\n",
              "    met_netsirr                           (time) float32 -3.3075 -3.3075 ...\n",
              "    met_salsurf                           (time) float64 34.5 34.5 34.51 ...\n",
              "    met_spechum                           (time) float32 5.6333957 5.4591403 ...\n",
              "    ct_depth                              (time) float64 1.067 1.067 1.067 ...\n",
              "    eastward_velocity                     (time) float64 nan nan nan nan nan ...\n",
              "    northward_velocity                    (time) float64 nan nan nan nan nan ...\n",
              "    met_current_direction                 (time) float64 nan nan nan nan nan ...\n",
              "    met_current_speed                     (time) float64 nan nan nan nan nan ...\n",
              "    met_relwind_direction                 (time) float64 nan nan nan nan nan ...\n",
              "    met_relwind_speed                     (time) float64 nan nan nan nan nan ...\n",
              "    met_heatflx_minute                    (time) float64 nan nan nan nan nan ...\n",
              "    met_latnflx_minute                    (time) float64 nan nan nan nan nan ...\n",
              "    met_netlirr_minute                    (time) float64 nan nan nan nan nan ...\n",
              "    met_sensflx_minute                    (time) float64 nan nan nan nan nan ...\n",
              "    barometric_pressure_qc_executed       (time) float32 29.0 29.0 29.0 29.0 ...\n",
              "    barometric_pressure_qc_results        (time) float32 29.0 29.0 29.0 29.0 ...\n",
              "    relative_humidity_qc_executed         (time) float32 29.0 29.0 29.0 29.0 ...\n",
              "    relative_humidity_qc_results          (time) float32 29.0 29.0 29.0 29.0 ...\n",
              "    air_temperature_qc_executed           (time) float32 29.0 29.0 29.0 29.0 ...\n",
              "    air_temperature_qc_results            (time) float32 29.0 29.0 29.0 29.0 ...\n",
              "    longwave_irradiance_qc_executed       (time) float32 29.0 29.0 29.0 29.0 ...\n",
              "    longwave_irradiance_qc_results        (time) float32 29.0 29.0 29.0 29.0 ...\n",
              "    precipitation_qc_executed             (time) float32 29.0 29.0 29.0 29.0 ...\n",
              "    precipitation_qc_results              (time) float32 13.0 13.0 13.0 13.0 ...\n",
              "    sea_surface_temperature_qc_executed   (time) float32 29.0 29.0 29.0 29.0 ...\n",
              "    sea_surface_temperature_qc_results    (time) float32 29.0 29.0 29.0 29.0 ...\n",
              "    sea_surface_conductivity_qc_executed  (time) float32 29.0 29.0 29.0 29.0 ...\n",
              "    sea_surface_conductivity_qc_results   (time) float32 13.0 13.0 13.0 13.0 ...\n",
              "    shortwave_irradiance_qc_executed      (time) float32 29.0 29.0 29.0 29.0 ...\n",
              "    shortwave_irradiance_qc_results       (time) float32 28.0 28.0 28.0 28.0 ...\n",
              "    eastward_wind_velocity_qc_executed    (time) float32 29.0 29.0 29.0 29.0 ...\n",
              "    eastward_wind_velocity_qc_results     (time) float32 29.0 29.0 29.0 29.0 ...\n",
              "    northward_wind_velocity_qc_executed   (time) float32 29.0 29.0 29.0 29.0 ...\n",
              "    northward_wind_velocity_qc_results    (time) float32 29.0 29.0 29.0 29.0 ...\n",
              "    met_barpres_qc_executed               (time) float32 29.0 29.0 29.0 29.0 ...\n",
              "    met_barpres_qc_results                (time) float32 29.0 29.0 29.0 29.0 ...\n",
              "    met_current_direction_qc_executed     (time) float32 29.0 29.0 29.0 29.0 ...\n",
              "    met_current_direction_qc_results      (time) float32 12.0 12.0 12.0 12.0 ...\n",
              "    met_current_speed_qc_executed         (time) float32 29.0 29.0 29.0 29.0 ...\n",
              "    met_current_speed_qc_results          (time) float32 12.0 12.0 12.0 12.0 ...\n",
              "    met_relwind_direction_qc_executed     (time) float32 29.0 29.0 29.0 29.0 ...\n",
              "    met_relwind_direction_qc_results      (time) float32 12.0 12.0 12.0 12.0 ...\n",
              "    met_relwind_speed_qc_executed         (time) float32 29.0 29.0 29.0 29.0 ...\n",
              "    met_relwind_speed_qc_results          (time) float32 12.0 12.0 12.0 12.0 ...\n",
              "    met_netsirr_qc_executed               (time) float32 29.0 29.0 29.0 29.0 ...\n",
              "    met_netsirr_qc_results                (time) float32 28.0 28.0 28.0 28.0 ...\n",
              "    met_salsurf_qc_executed               (time) float32 29.0 29.0 29.0 29.0 ...\n",
              "    met_salsurf_qc_results                (time) float32 29.0 29.0 29.0 29.0 ...\n",
              "    met_spechum_qc_executed               (time) float32 29.0 29.0 29.0 29.0 ...\n",
              "    met_spechum_qc_results                (time) float32 29.0 29.0 29.0 29.0 ...\n",
              "Attributes:\n",
              "    _NCProperties:                      version=1|netcdflibversion=4.4.1.1|hd...\n",
              "    node:                               SBD11\n",
              "    comment:                            \n",
              "    publisher_email:                    \n",
              "    sourceUrl:                          http://oceanobservatories.org/\n",
              "    collection_method:                  telemetered\n",
              "    stream:                             metbk_a_dcl_instrument\n",
              "    featureType:                        point\n",
              "    creator_email:                      \n",
              "    publisher_name:                     Ocean Observatories Initiative\n",
              "    date_modified:                      2018-08-17T17:01:59.300126\n",
              "    keywords:                           \n",
              "    cdm_data_type:                      Point\n",
              "    references:                         More information can be found at http...\n",
              "    Metadata_Conventions:               Unidata Dataset Discovery v1.0\n",
              "    date_created:                       2018-08-17T17:01:59.300120\n",
              "    id:                                 CP04OSSM-SBD11-06-METBKA000-telemeter...\n",
              "    requestUUID:                        b576ce52-3b82-47e3-9b83-5df982af02a7\n",
              "    contributor_role:                   \n",
              "    summary:                            Dataset Generated by Stream Engine fr...\n",
              "    keywords_vocabulary:                \n",
              "    institution:                        Ocean Observatories Initiative\n",
              "    naming_authority:                   org.oceanobservatories\n",
              "    feature_Type:                       point\n",
              "    infoUrl:                            http://oceanobservatories.org/\n",
              "    license:                            \n",
              "    contributor_name:                   \n",
              "    uuid:                               b576ce52-3b82-47e3-9b83-5df982af02a7\n",
              "    creator_name:                       Ocean Observatories Initiative\n",
              "    title:                              Data produced by Stream Engine versio...\n",
              "    sensor:                             06-METBKA000\n",
              "    standard_name_vocabulary:           NetCDF Climate and Forecast (CF) Meta...\n",
              "    acknowledgement:                    \n",
              "    Conventions:                        CF-1.6\n",
              "    project:                            Ocean Observatories Initiative\n",
              "    source:                             CP04OSSM-SBD11-06-METBKA000-telemeter...\n",
              "    publisher_url:                      http://oceanobservatories.org/\n",
              "    creator_url:                        http://oceanobservatories.org/\n",
              "    nodc_template_version:              NODC_NetCDF_TimeSeries_Orthogonal_Tem...\n",
              "    subsite:                            CP04OSSM\n",
              "    processing_level:                   L2\n",
              "    history:                            2018-08-17T17:01:59.300059 generated ...\n",
              "    Manufacturer:                       Star Engineering\n",
              "    ModelNumber:                        ASIMET\n",
              "    SerialNumber:                       LGR016\n",
              "    Description:                        Bulk Meteorology Instrument Package: ...\n",
              "    FirmwareVersion:                    Not specified.\n",
              "    SoftwareVersion:                    Not specified.\n",
              "    AssetUniqueID:                      CGINS-METLGR-00016\n",
              "    Notes:                              Not specified.\n",
              "    Owner:                              Not specified.\n",
              "    RemoteResources:                    []\n",
              "    ShelfLifeExpirationDate:            Not specified.\n",
              "    Mobile:                             False\n",
              "    AssetManagementRecordLastModified:  2018-08-16T12:31:39.814000\n",
              "    time_coverage_start:                2016-10-12T14:26:41.906000\n",
              "    time_coverage_end:                  2016-12-31T23:59:09.571000\n",
              "    time_coverage_resolution:           P60.01S\n",
              "    geospatial_lat_min:                 39.93707\n",
              "    geospatial_lat_max:                 39.93707\n",
              "    geospatial_lat_units:               degrees_north\n",
              "    geospatial_lat_resolution:          0.1\n",
              "    geospatial_lon_min:                 -70.88697\n",
              "    geospatial_lon_max:                 -70.88697\n",
              "    geospatial_lon_units:               degrees_east\n",
              "    geospatial_lon_resolution:          0.1\n",
              "    geospatial_vertical_units:          meters\n",
              "    geospatial_vertical_resolution:     0.1\n",
              "    geospatial_vertical_positive:       down\n",
              "    DODS.strlen:                        36\n",
              "    DODS.dimName:                       string36\n",
              "    DODS_EXTRA.Unlimited_Dimension:     obs"
            ]
          },
          "metadata": {
            "tags": []
          },
          "execution_count": 58
        }
      ]
    },
    {
      "metadata": {
        "id": "QWzkOUQqubwo",
        "colab_type": "text"
      },
      "cell_type": "markdown",
      "source": [
        "## Step 3 - Plotting the Results\n",
        "And now we can plot the results."
      ]
    },
    {
      "metadata": {
        "id": "g-13KjvZzixo",
        "colab_type": "code",
        "colab": {
          "base_uri": "https://localhost:8080/",
          "height": 35
        },
        "outputId": "a69892d7-eba2-4746-9338-8cdc6680f2fc"
      },
      "cell_type": "code",
      "source": [
        "# Pull the source attribute to use as a plot title\n",
        "source = ds.source\n",
        "source"
      ],
      "execution_count": 59,
      "outputs": [
        {
          "output_type": "execute_result",
          "data": {
            "text/plain": [
              "'CP04OSSM-SBD11-06-METBKA000-telemetered-metbk_a_dcl_instrument'"
            ]
          },
          "metadata": {
            "tags": []
          },
          "execution_count": 59
        }
      ]
    },
    {
      "metadata": {
        "id": "s0mcD9taubIA",
        "colab_type": "code",
        "colab": {
          "base_uri": "https://localhost:8080/",
          "height": 498
        },
        "outputId": "c2095272-a473-4c17-e37e-81564a7caa33"
      },
      "cell_type": "code",
      "source": [
        "fig, (ax) = plt.subplots(1,1, figsize=(12,8))\n",
        "plt.plot(ds['time'],ds['sea_surface_temperature'], 'b.', markersize=2, label='Sea Surface Temperature')\n",
        "plt.plot(ds['time'],ds['air_temperature'], 'g.', markersize=2, label='Air Temperature')\n",
        "plt.ylabel('Temperature (C)')\n",
        "plt.title(source)\n",
        "plt.legend();"
      ],
      "execution_count": 81,
      "outputs": [
        {
          "output_type": "display_data",
          "data": {
            "image/png": "[encoded data removed]",
            "text/plain": [
              "<matplotlib.figure.Figure at 0x7f2e222bba58>"
            ]
          },
          "metadata": {
            "tags": []
          }
        }
      ]
    }
  ]
}